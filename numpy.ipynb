{
 "cells": [
  {
   "cell_type": "markdown",
   "id": "e7ff1045-b82e-4355-ae8d-990988faa0a0",
   "metadata": {},
   "source": [
    "# ARRAYS (1D,2D,3D)"
   ]
  },
  {
   "cell_type": "code",
   "execution_count": 51,
   "id": "d8691370-0d46-4b7e-91f4-4895ad4e6bea",
   "metadata": {},
   "outputs": [],
   "source": [
    "import numpy as np"
   ]
  },
  {
   "cell_type": "code",
   "execution_count": 3,
   "id": "0dd08742-f90b-4730-bb5c-90212646b515",
   "metadata": {},
   "outputs": [],
   "source": [
    "A1=np.array([1,2,3,4])"
   ]
  },
  {
   "cell_type": "code",
   "execution_count": 5,
   "id": "a4d7654d-7d93-4560-bc0f-497e377577d7",
   "metadata": {},
   "outputs": [
    {
     "name": "stdout",
     "output_type": "stream",
     "text": [
      "[1 2 3 4]\n"
     ]
    }
   ],
   "source": [
    "print(A1)"
   ]
  },
  {
   "cell_type": "code",
   "execution_count": 7,
   "id": "932de316-bd13-4f9c-834f-abf9cf7e122e",
   "metadata": {},
   "outputs": [
    {
     "data": {
      "text/plain": [
       "numpy.ndarray"
      ]
     },
     "execution_count": 7,
     "metadata": {},
     "output_type": "execute_result"
    }
   ],
   "source": [
    "type(A1)"
   ]
  },
  {
   "cell_type": "code",
   "execution_count": 9,
   "id": "477e6ad5-a48f-43d6-bd33-b36ccdaeac79",
   "metadata": {},
   "outputs": [
    {
     "data": {
      "text/plain": [
       "(4,)"
      ]
     },
     "execution_count": 9,
     "metadata": {},
     "output_type": "execute_result"
    }
   ],
   "source": [
    "A1.shape"
   ]
  },
  {
   "cell_type": "code",
   "execution_count": 11,
   "id": "2e0eb557-61d9-485c-a111-8e213a5fdf40",
   "metadata": {},
   "outputs": [
    {
     "data": {
      "text/plain": [
       "4"
      ]
     },
     "execution_count": 11,
     "metadata": {},
     "output_type": "execute_result"
    }
   ],
   "source": [
    "A1.size"
   ]
  },
  {
   "cell_type": "code",
   "execution_count": 15,
   "id": "87585a34-2b60-423b-9e7d-334fac6231fe",
   "metadata": {},
   "outputs": [],
   "source": [
    "A2=np.array([[1,2,3,4],[5,6,7,8]])"
   ]
  },
  {
   "cell_type": "code",
   "execution_count": 17,
   "id": "a5d049b4-7afa-4eb6-b233-91ad49db4b23",
   "metadata": {},
   "outputs": [
    {
     "name": "stdout",
     "output_type": "stream",
     "text": [
      "[[1 2 3 4]\n",
      " [5 6 7 8]]\n"
     ]
    }
   ],
   "source": [
    "print(A2)"
   ]
  },
  {
   "cell_type": "code",
   "execution_count": 25,
   "id": "ec61b7ad-5e6f-4185-9d4f-95323b4c1bb5",
   "metadata": {},
   "outputs": [
    {
     "data": {
      "text/plain": [
       "2"
      ]
     },
     "execution_count": 25,
     "metadata": {},
     "output_type": "execute_result"
    }
   ],
   "source": [
    "A2.ndim  #to check dimension "
   ]
  },
  {
   "cell_type": "code",
   "execution_count": 21,
   "id": "9c8d6ecf-ff4e-4002-bf2d-116c9b9fb69d",
   "metadata": {},
   "outputs": [
    {
     "data": {
      "text/plain": [
       "(2, 4)"
      ]
     },
     "execution_count": 21,
     "metadata": {},
     "output_type": "execute_result"
    }
   ],
   "source": [
    "A2.shape"
   ]
  },
  {
   "cell_type": "code",
   "execution_count": 23,
   "id": "ca9baace-254f-4520-a896-86a0cb4a2fcb",
   "metadata": {},
   "outputs": [
    {
     "data": {
      "text/plain": [
       "8"
      ]
     },
     "execution_count": 23,
     "metadata": {},
     "output_type": "execute_result"
    }
   ],
   "source": [
    "A2.size"
   ]
  },
  {
   "cell_type": "code",
   "execution_count": 33,
   "id": "9b9fa77d-4439-42d2-94a1-206fb53dc1d5",
   "metadata": {},
   "outputs": [],
   "source": [
    "A3=np.array([[[1,2],[3,4],[5,6]]])"
   ]
  },
  {
   "cell_type": "code",
   "execution_count": 41,
   "id": "9a35c144-e5aa-43e0-9709-8a060d96c294",
   "metadata": {},
   "outputs": [
    {
     "data": {
      "text/plain": [
       "3"
      ]
     },
     "execution_count": 41,
     "metadata": {},
     "output_type": "execute_result"
    }
   ],
   "source": [
    "A3.size\n",
    "A3.shape\n",
    "A3.ndim"
   ]
  },
  {
   "cell_type": "code",
   "execution_count": 45,
   "id": "a9fcc0e5-bc3a-4343-b779-567736b4b7ac",
   "metadata": {},
   "outputs": [
    {
     "name": "stdout",
     "output_type": "stream",
     "text": [
      "[[[1 2]\n",
      "  [3 4]\n",
      "  [5 6]]]\n"
     ]
    }
   ],
   "source": [
    "\n",
    "print(A3)"
   ]
  },
  {
   "cell_type": "markdown",
   "id": "ac6b863a-edd5-418a-8b91-a27c1e7a8903",
   "metadata": {},
   "source": [
    "# Zero Array\n",
    "\n",
    "an array in which all values are 0\n",
    "\n",
    "## ZA=np.zeros(shape,dtype)"
   ]
  },
  {
   "cell_type": "code",
   "execution_count": 54,
   "id": "e1ba79d0-ba7d-4038-9b2f-639dea100743",
   "metadata": {},
   "outputs": [],
   "source": [
    "import numpy as np"
   ]
  },
  {
   "cell_type": "code",
   "execution_count": 58,
   "id": "6d5ed264-52cc-4bf4-9dbb-158f1581fdb9",
   "metadata": {},
   "outputs": [
    {
     "data": {
      "text/plain": [
       "array([0., 0., 0.])"
      ]
     },
     "execution_count": 58,
     "metadata": {},
     "output_type": "execute_result"
    }
   ],
   "source": [
    "z1=np.zeros(3)\n",
    "z1"
   ]
  },
  {
   "cell_type": "code",
   "execution_count": 64,
   "id": "015cfe7f-d437-4d58-950c-0a4eb30d1bc8",
   "metadata": {},
   "outputs": [
    {
     "data": {
      "text/plain": [
       "array([0, 0, 0, 0, 0, 0, 0, 0, 0, 0, 0, 0, 0, 0, 0, 0, 0, 0, 0, 0, 0, 0,\n",
       "       0, 0, 0, 0, 0, 0, 0, 0])"
      ]
     },
     "execution_count": 64,
     "metadata": {},
     "output_type": "execute_result"
    }
   ],
   "source": [
    "z1=np.zeros(30,dtype=int)\n",
    "z1"
   ]
  },
  {
   "cell_type": "code",
   "execution_count": 70,
   "id": "f3b488e3-0be5-410f-b82a-86fffd612d9e",
   "metadata": {},
   "outputs": [
    {
     "data": {
      "text/plain": [
       "1"
      ]
     },
     "execution_count": 70,
     "metadata": {},
     "output_type": "execute_result"
    }
   ],
   "source": [
    "type(z1)\n",
    "np.ndim(z1)"
   ]
  },
  {
   "cell_type": "code",
   "execution_count": 72,
   "id": "93eb65d5-80c5-4f40-b1e4-c82402f822b6",
   "metadata": {},
   "outputs": [
    {
     "data": {
      "text/plain": [
       "array([[0., 0., 0., 0.],\n",
       "       [0., 0., 0., 0.],\n",
       "       [0., 0., 0., 0.]])"
      ]
     },
     "execution_count": 72,
     "metadata": {},
     "output_type": "execute_result"
    }
   ],
   "source": [
    "np.zeros((3,4))"
   ]
  },
  {
   "cell_type": "code",
   "execution_count": 76,
   "id": "b87ea34c-82e7-4a3f-b0f2-1a39f8c8433f",
   "metadata": {},
   "outputs": [
    {
     "data": {
      "text/plain": [
       "array([[0, 0, 0, 0],\n",
       "       [0, 0, 0, 0],\n",
       "       [0, 0, 0, 0]])"
      ]
     },
     "execution_count": 76,
     "metadata": {},
     "output_type": "execute_result"
    }
   ],
   "source": [
    "z2=np.zeros((3,4),dtype=int)\n",
    "z2"
   ]
  },
  {
   "cell_type": "code",
   "execution_count": 78,
   "id": "a9a3578c-c9cf-4ffb-966a-cf2391ad5c80",
   "metadata": {},
   "outputs": [
    {
     "data": {
      "text/plain": [
       "(3, 4)"
      ]
     },
     "execution_count": 78,
     "metadata": {},
     "output_type": "execute_result"
    }
   ],
   "source": [
    "z2.shape"
   ]
  },
  {
   "cell_type": "code",
   "execution_count": 82,
   "id": "88882d97-e398-4de8-be9e-b8754cd1f28b",
   "metadata": {},
   "outputs": [
    {
     "data": {
      "text/plain": [
       "array([[[0., 0., 0., 0.],\n",
       "        [0., 0., 0., 0.],\n",
       "        [0., 0., 0., 0.]],\n",
       "\n",
       "       [[0., 0., 0., 0.],\n",
       "        [0., 0., 0., 0.],\n",
       "        [0., 0., 0., 0.]]])"
      ]
     },
     "execution_count": 82,
     "metadata": {},
     "output_type": "execute_result"
    }
   ],
   "source": [
    "z3=np.zeros((2,3,4))\n",
    "z3"
   ]
  },
  {
   "cell_type": "code",
   "execution_count": 84,
   "id": "761cd991-fd67-4e69-8200-cd35d6d4a56d",
   "metadata": {},
   "outputs": [
    {
     "data": {
      "text/plain": [
       "3"
      ]
     },
     "execution_count": 84,
     "metadata": {},
     "output_type": "execute_result"
    }
   ],
   "source": [
    "z3.ndim"
   ]
  },
  {
   "cell_type": "code",
   "execution_count": 90,
   "id": "7ea3859f-c439-4020-93dc-e7d775bb0306",
   "metadata": {},
   "outputs": [
    {
     "data": {
      "text/plain": [
       "24"
      ]
     },
     "execution_count": 90,
     "metadata": {},
     "output_type": "execute_result"
    }
   ],
   "source": [
    "z3.size"
   ]
  },
  {
   "cell_type": "code",
   "execution_count": 92,
   "id": "1383bf2b-2ede-4c61-95c6-fb2e08dcf922",
   "metadata": {},
   "outputs": [
    {
     "data": {
      "text/plain": [
       "(2, 3, 4)"
      ]
     },
     "execution_count": 92,
     "metadata": {},
     "output_type": "execute_result"
    }
   ],
   "source": [
    "z3.shape"
   ]
  },
  {
   "cell_type": "markdown",
   "id": "120a1510-c519-4668-89c9-80382a61c030",
   "metadata": {},
   "source": [
    "# ones array\n",
    "\n",
    "all values are one \n",
    "\n",
    "## A=np.ones(shape,dtype)"
   ]
  },
  {
   "cell_type": "code",
   "execution_count": 96,
   "id": "4429f7b1-828f-4f85-9e29-7e9d13423a1b",
   "metadata": {},
   "outputs": [],
   "source": [
    "import numpy as np"
   ]
  },
  {
   "cell_type": "code",
   "execution_count": 100,
   "id": "65bf8085-108c-4b3e-bac1-0cf241567373",
   "metadata": {},
   "outputs": [
    {
     "name": "stdout",
     "output_type": "stream",
     "text": [
      "[1. 1. 1. 1. 1. 1. 1. 1.]\n"
     ]
    }
   ],
   "source": [
    "a1=np.ones(8)\n",
    "print(a1)"
   ]
  },
  {
   "cell_type": "code",
   "execution_count": 104,
   "id": "95171744-113d-4116-bf93-dcc15e75ac7a",
   "metadata": {},
   "outputs": [
    {
     "name": "stdout",
     "output_type": "stream",
     "text": [
      "[1 1 1]\n"
     ]
    }
   ],
   "source": [
    "a1=np.ones(3,dtype=int)\n",
    "print(a1)"
   ]
  },
  {
   "cell_type": "code",
   "execution_count": 106,
   "id": "237f90a8-c031-4f3a-8d68-2609c1d7c89a",
   "metadata": {},
   "outputs": [
    {
     "data": {
      "text/plain": [
       "numpy.ndarray"
      ]
     },
     "execution_count": 106,
     "metadata": {},
     "output_type": "execute_result"
    }
   ],
   "source": [
    "type(a1)"
   ]
  },
  {
   "cell_type": "code",
   "execution_count": 108,
   "id": "ffaa0bc2-b844-470f-882c-09df93bc4468",
   "metadata": {},
   "outputs": [
    {
     "data": {
      "text/plain": [
       "1"
      ]
     },
     "execution_count": 108,
     "metadata": {},
     "output_type": "execute_result"
    }
   ],
   "source": [
    "a1.ndim"
   ]
  },
  {
   "cell_type": "code",
   "execution_count": 110,
   "id": "20f20ffb-cbde-4f89-96e1-fa6aeb2d7a6d",
   "metadata": {},
   "outputs": [
    {
     "data": {
      "text/plain": [
       "3"
      ]
     },
     "execution_count": 110,
     "metadata": {},
     "output_type": "execute_result"
    }
   ],
   "source": [
    "a1.size"
   ]
  },
  {
   "cell_type": "code",
   "execution_count": 112,
   "id": "9fc656ce-2a13-408b-a397-34c72cde7373",
   "metadata": {},
   "outputs": [
    {
     "data": {
      "text/plain": [
       "(3,)"
      ]
     },
     "execution_count": 112,
     "metadata": {},
     "output_type": "execute_result"
    }
   ],
   "source": [
    "a1.shape"
   ]
  },
  {
   "cell_type": "code",
   "execution_count": 116,
   "id": "c08bad59-e5b9-4ad0-9590-79d460e2b448",
   "metadata": {},
   "outputs": [
    {
     "data": {
      "text/plain": [
       "array([[1., 1., 1., 1.],\n",
       "       [1., 1., 1., 1.]])"
      ]
     },
     "execution_count": 116,
     "metadata": {},
     "output_type": "execute_result"
    }
   ],
   "source": [
    "np.ones((2,4))"
   ]
  },
  {
   "cell_type": "code",
   "execution_count": 118,
   "id": "1edf84b8-7c3e-4d32-b1ab-7c60a98d5754",
   "metadata": {},
   "outputs": [
    {
     "data": {
      "text/plain": [
       "array([[1., 1., 1., 1., 1.],\n",
       "       [1., 1., 1., 1., 1.],\n",
       "       [1., 1., 1., 1., 1.]])"
      ]
     },
     "execution_count": 118,
     "metadata": {},
     "output_type": "execute_result"
    }
   ],
   "source": [
    "np.ones((3,5))"
   ]
  },
  {
   "cell_type": "code",
   "execution_count": 120,
   "id": "bdac1f93-8727-45a3-8d7d-e6cf6cca6021",
   "metadata": {},
   "outputs": [
    {
     "data": {
      "text/plain": [
       "array([[1, 1, 1, 1, 1],\n",
       "       [1, 1, 1, 1, 1]])"
      ]
     },
     "execution_count": 120,
     "metadata": {},
     "output_type": "execute_result"
    }
   ],
   "source": [
    "np.ones((2,5),dtype=int)"
   ]
  },
  {
   "cell_type": "code",
   "execution_count": 126,
   "id": "b568c791-e4ef-4b12-83c7-387f8ce15e5e",
   "metadata": {},
   "outputs": [
    {
     "data": {
      "text/plain": [
       "array([[1, 1, 1, 1, 1, 1],\n",
       "       [1, 1, 1, 1, 1, 1],\n",
       "       [1, 1, 1, 1, 1, 1]])"
      ]
     },
     "execution_count": 126,
     "metadata": {},
     "output_type": "execute_result"
    }
   ],
   "source": [
    "np.ones((3,6),dtype=int)"
   ]
  },
  {
   "cell_type": "code",
   "execution_count": 130,
   "id": "026c3343-3e86-4eaa-809f-4c801b3565ab",
   "metadata": {},
   "outputs": [
    {
     "name": "stdout",
     "output_type": "stream",
     "text": [
      "[[[1. 1. 1. 1. 1. 1.]\n",
      "  [1. 1. 1. 1. 1. 1.]\n",
      "  [1. 1. 1. 1. 1. 1.]\n",
      "  [1. 1. 1. 1. 1. 1.]]\n",
      "\n",
      " [[1. 1. 1. 1. 1. 1.]\n",
      "  [1. 1. 1. 1. 1. 1.]\n",
      "  [1. 1. 1. 1. 1. 1.]\n",
      "  [1. 1. 1. 1. 1. 1.]]]\n"
     ]
    }
   ],
   "source": [
    "a3=np.ones((2,4,6))\n",
    "print(a3)"
   ]
  },
  {
   "cell_type": "code",
   "execution_count": 132,
   "id": "36d31afc-a9cb-4582-827d-84847a84a2a8",
   "metadata": {},
   "outputs": [
    {
     "name": "stdout",
     "output_type": "stream",
     "text": [
      "[[[1 1 1 1 1 1]\n",
      "  [1 1 1 1 1 1]\n",
      "  [1 1 1 1 1 1]\n",
      "  [1 1 1 1 1 1]]\n",
      "\n",
      " [[1 1 1 1 1 1]\n",
      "  [1 1 1 1 1 1]\n",
      "  [1 1 1 1 1 1]\n",
      "  [1 1 1 1 1 1]]]\n"
     ]
    }
   ],
   "source": [
    "a3=np.ones((2,4,6),dtype=int)\n",
    "print(a3)"
   ]
  },
  {
   "cell_type": "code",
   "execution_count": 134,
   "id": "2c96548b-1644-44e4-87c1-3cd8215a987d",
   "metadata": {},
   "outputs": [
    {
     "data": {
      "text/plain": [
       "3"
      ]
     },
     "execution_count": 134,
     "metadata": {},
     "output_type": "execute_result"
    }
   ],
   "source": [
    "np.ndim(a3)"
   ]
  },
  {
   "cell_type": "code",
   "execution_count": 138,
   "id": "11fdd80b-ad2c-48f2-a1ab-08f093608940",
   "metadata": {},
   "outputs": [
    {
     "data": {
      "text/plain": [
       "48"
      ]
     },
     "execution_count": 138,
     "metadata": {},
     "output_type": "execute_result"
    }
   ],
   "source": [
    "a3.size\n"
   ]
  },
  {
   "cell_type": "markdown",
   "id": "30464fcb-1df3-4c25-b0e4-a7de00f5343c",
   "metadata": {},
   "source": [
    "# Full Array\n",
    "\n",
    "## F=np.full(shape,fill_value)"
   ]
  },
  {
   "cell_type": "code",
   "execution_count": 142,
   "id": "e34e10cf-cfa2-4ee3-bb8d-620d7a11156b",
   "metadata": {},
   "outputs": [],
   "source": [
    "import numpy as np"
   ]
  },
  {
   "cell_type": "code",
   "execution_count": 150,
   "id": "2cf70070-fc68-4c5e-a858-d198ad84f42a",
   "metadata": {},
   "outputs": [],
   "source": [
    "f1=np.full(6,45)"
   ]
  },
  {
   "cell_type": "code",
   "execution_count": 152,
   "id": "be16d868-688f-46e0-8760-abff56c84045",
   "metadata": {},
   "outputs": [
    {
     "name": "stdout",
     "output_type": "stream",
     "text": [
      "[45 45 45 45 45 45]\n"
     ]
    }
   ],
   "source": [
    "print(f1)"
   ]
  },
  {
   "cell_type": "code",
   "execution_count": 156,
   "id": "10dd6bbb-92a7-4777-93df-7dffbf21f45b",
   "metadata": {},
   "outputs": [
    {
     "name": "stdout",
     "output_type": "stream",
     "text": [
      "[45. 45. 45.]\n"
     ]
    }
   ],
   "source": [
    "f1=np.full(3,45,dtype=float)\n",
    "print(f1)"
   ]
  },
  {
   "cell_type": "code",
   "execution_count": 158,
   "id": "3622c9c8-83a4-46c7-9cd6-ca24df9bcb5c",
   "metadata": {},
   "outputs": [
    {
     "name": "stdout",
     "output_type": "stream",
     "text": [
      "[45 45 45]\n"
     ]
    }
   ],
   "source": [
    "f1=np.full(3,45,dtype=int)\n",
    "print(f1)"
   ]
  },
  {
   "cell_type": "code",
   "execution_count": 160,
   "id": "395be46a-f20d-4ed8-981a-4a4ce2338f2a",
   "metadata": {},
   "outputs": [
    {
     "data": {
      "text/plain": [
       "numpy.ndarray"
      ]
     },
     "execution_count": 160,
     "metadata": {},
     "output_type": "execute_result"
    }
   ],
   "source": [
    "type(f1)"
   ]
  },
  {
   "cell_type": "code",
   "execution_count": 164,
   "id": "b36a6007-e628-4c79-9ec8-f8f131136b90",
   "metadata": {},
   "outputs": [
    {
     "data": {
      "text/plain": [
       "1"
      ]
     },
     "execution_count": 164,
     "metadata": {},
     "output_type": "execute_result"
    }
   ],
   "source": [
    "f1.ndim"
   ]
  },
  {
   "cell_type": "code",
   "execution_count": 168,
   "id": "50a9c4c6-b5ed-4631-8c7e-1b72e4aa1e4e",
   "metadata": {},
   "outputs": [
    {
     "name": "stdout",
     "output_type": "stream",
     "text": [
      "[[53.4 53.4 53.4]\n",
      " [53.4 53.4 53.4]]\n"
     ]
    }
   ],
   "source": [
    "f2=np.full((2,3),53.4)\n",
    "print(f2)"
   ]
  },
  {
   "cell_type": "code",
   "execution_count": 172,
   "id": "f34ca10d-27eb-4037-990c-fe7b0df9b17c",
   "metadata": {},
   "outputs": [
    {
     "name": "stdout",
     "output_type": "stream",
     "text": [
      "[[34 34 34]\n",
      " [34 34 34]]\n"
     ]
    }
   ],
   "source": [
    "f2=np.full((2,3),34.8,dtype=int)\n",
    "print(f2)"
   ]
  },
  {
   "cell_type": "code",
   "execution_count": 176,
   "id": "ff9b6d5e-f174-4a3e-8830-d436cd196444",
   "metadata": {},
   "outputs": [
    {
     "name": "stdout",
     "output_type": "stream",
     "text": [
      "[['2' '2' '2']\n",
      " ['2' '2' '2']]\n"
     ]
    }
   ],
   "source": [
    "f3=np.full((2,3),23.4,dtype=str)\n",
    "print(f3)"
   ]
  },
  {
   "cell_type": "code",
   "execution_count": 178,
   "id": "a467b427-2565-4cf4-b1c6-f93376319a70",
   "metadata": {},
   "outputs": [
    {
     "data": {
      "text/plain": [
       "(2, 3)"
      ]
     },
     "execution_count": 178,
     "metadata": {},
     "output_type": "execute_result"
    }
   ],
   "source": [
    "f2.shape"
   ]
  },
  {
   "cell_type": "code",
   "execution_count": 183,
   "id": "70b895d6-4257-4d84-b895-f4633d2ef54a",
   "metadata": {},
   "outputs": [
    {
     "name": "stdout",
     "output_type": "stream",
     "text": [
      "[[['going good' 'going good' 'going good' 'going good']\n",
      "  ['going good' 'going good' 'going good' 'going good']\n",
      "  ['going good' 'going good' 'going good' 'going good']]\n",
      "\n",
      " [['going good' 'going good' 'going good' 'going good']\n",
      "  ['going good' 'going good' 'going good' 'going good']\n",
      "  ['going good' 'going good' 'going good' 'going good']]]\n"
     ]
    }
   ],
   "source": [
    "f4=np.full([2,3,4],'going good')\n",
    "print(f4)"
   ]
  },
  {
   "cell_type": "code",
   "execution_count": 186,
   "id": "39cca4a9-2406-41b9-846a-2b67e50a6356",
   "metadata": {},
   "outputs": [
    {
     "data": {
      "text/plain": [
       "3"
      ]
     },
     "execution_count": 186,
     "metadata": {},
     "output_type": "execute_result"
    }
   ],
   "source": [
    "np.ndim(f4)\n",
    "\n"
   ]
  },
  {
   "cell_type": "markdown",
   "id": "f77de396-c5fa-497a-9a38-588d59c7a711",
   "metadata": {},
   "source": [
    "# Random function\n",
    "\n",
    "Random module has fnc which are used for generating random numbers"
   ]
  },
  {
   "cell_type": "code",
   "execution_count": 191,
   "id": "f594affc-e664-4cb6-8642-2f82f08b92aa",
   "metadata": {},
   "outputs": [],
   "source": [
    "import numpy as np"
   ]
  },
  {
   "cell_type": "code",
   "execution_count": 193,
   "id": "f3c02be2-f129-466b-8854-ca3b75141b11",
   "metadata": {},
   "outputs": [],
   "source": [
    "from numpy import random"
   ]
  },
  {
   "cell_type": "code",
   "execution_count": 195,
   "id": "11c00238-7aed-4182-bf1f-c0039ca98104",
   "metadata": {},
   "outputs": [
    {
     "data": {
      "text/plain": [
       "0.2153858989775762"
      ]
     },
     "execution_count": 195,
     "metadata": {},
     "output_type": "execute_result"
    }
   ],
   "source": [
    "np.random.random()"
   ]
  },
  {
   "cell_type": "code",
   "execution_count": 197,
   "id": "00268047-46ca-4cb0-935e-39237465968a",
   "metadata": {},
   "outputs": [
    {
     "data": {
      "text/plain": [
       "array([0.53448326, 0.4541837 , 0.65930696])"
      ]
     },
     "execution_count": 197,
     "metadata": {},
     "output_type": "execute_result"
    }
   ],
   "source": [
    "np.random.random(3)"
   ]
  },
  {
   "cell_type": "code",
   "execution_count": 199,
   "id": "ce96dcea-316c-4eca-8fb5-0e3b0dd2a77e",
   "metadata": {},
   "outputs": [
    {
     "data": {
      "text/plain": [
       "array([[0.15160935, 0.25693351, 0.69847504, 0.40900695],\n",
       "       [0.5431503 , 0.91438537, 0.72961769, 0.10702301]])"
      ]
     },
     "execution_count": 199,
     "metadata": {},
     "output_type": "execute_result"
    }
   ],
   "source": [
    "np.random.random((2,4))"
   ]
  },
  {
   "cell_type": "code",
   "execution_count": 201,
   "id": "20804cb4-2676-4e15-8cf1-76de6b895fd6",
   "metadata": {},
   "outputs": [
    {
     "data": {
      "text/plain": [
       "array([[[0.70573488, 0.0351639 , 0.70701076, 0.93634361, 0.00377536,\n",
       "         0.77769066],\n",
       "        [0.8870046 , 0.72244392, 0.32221353, 0.23195049, 0.6138454 ,\n",
       "         0.74450244],\n",
       "        [0.45925799, 0.02002213, 0.63143797, 0.71619885, 0.67878159,\n",
       "         0.99693974],\n",
       "        [0.46637173, 0.15841378, 0.77628741, 0.67254749, 0.60100494,\n",
       "         0.12843437]],\n",
       "\n",
       "       [[0.54884526, 0.10105557, 0.51819561, 0.79061946, 0.30726731,\n",
       "         0.30215265],\n",
       "        [0.20800871, 0.59630294, 0.24646361, 0.88252824, 0.47161143,\n",
       "         0.08418644],\n",
       "        [0.96786837, 0.88216546, 0.2548952 , 0.5731409 , 0.23342671,\n",
       "         0.18210652],\n",
       "        [0.90651376, 0.50350238, 0.29210199, 0.6354145 , 0.48804364,\n",
       "         0.98742866]],\n",
       "\n",
       "       [[0.89078813, 0.89648271, 0.91841562, 0.56621861, 0.37840838,\n",
       "         0.8177084 ],\n",
       "        [0.6587182 , 0.84130888, 0.81016825, 0.4727001 , 0.63885996,\n",
       "         0.53381072],\n",
       "        [0.90727805, 0.43576784, 0.64889565, 0.16879656, 0.25137682,\n",
       "         0.09164759],\n",
       "        [0.01990093, 0.63520664, 0.48636736, 0.53734874, 0.23085833,\n",
       "         0.7733536 ]],\n",
       "\n",
       "       [[0.89193948, 0.58001341, 0.11726639, 0.24843925, 0.4980255 ,\n",
       "         0.92471065],\n",
       "        [0.34508033, 0.10103171, 0.99499819, 0.87386851, 0.28343805,\n",
       "         0.75315691],\n",
       "        [0.41960566, 0.11305662, 0.71610781, 0.87104326, 0.72823137,\n",
       "         0.42680404],\n",
       "        [0.47043679, 0.45322333, 0.11947112, 0.51396955, 0.01012647,\n",
       "         0.89897586]]])"
      ]
     },
     "execution_count": 201,
     "metadata": {},
     "output_type": "execute_result"
    }
   ],
   "source": [
    "np.random.random((4,4,6))"
   ]
  },
  {
   "cell_type": "code",
   "execution_count": 203,
   "id": "bbbef0b4-ec0e-413a-90d3-a095541b2555",
   "metadata": {},
   "outputs": [
    {
     "data": {
      "text/plain": [
       "22"
      ]
     },
     "execution_count": 203,
     "metadata": {},
     "output_type": "execute_result"
    }
   ],
   "source": [
    "np.random.randint(1,45)"
   ]
  },
  {
   "cell_type": "code",
   "execution_count": 213,
   "id": "3a0e693b-8f33-4df3-9740-7820b358d6e3",
   "metadata": {},
   "outputs": [
    {
     "data": {
      "text/plain": [
       "array([6, 4, 5, 7, 5, 4])"
      ]
     },
     "execution_count": 213,
     "metadata": {},
     "output_type": "execute_result"
    }
   ],
   "source": [
    "np.random.randint(3,13,6)"
   ]
  },
  {
   "cell_type": "code",
   "execution_count": 217,
   "id": "2801ac99-7348-4801-8183-81bbd50021a9",
   "metadata": {},
   "outputs": [
    {
     "data": {
      "text/plain": [
       "4"
      ]
     },
     "execution_count": 217,
     "metadata": {},
     "output_type": "execute_result"
    }
   ],
   "source": [
    "np.random.randint(5)"
   ]
  },
  {
   "cell_type": "code",
   "execution_count": 219,
   "id": "730b3447-4047-4664-b1dd-a9898e0b7718",
   "metadata": {},
   "outputs": [
    {
     "data": {
      "text/plain": [
       "0.3554983089900784"
      ]
     },
     "execution_count": 219,
     "metadata": {},
     "output_type": "execute_result"
    }
   ],
   "source": [
    "np.random.rand()"
   ]
  },
  {
   "cell_type": "code",
   "execution_count": 221,
   "id": "267ae3fd-5165-4f8d-8965-374ecd693bb1",
   "metadata": {},
   "outputs": [
    {
     "data": {
      "text/plain": [
       "array([0.95724103, 0.49006578, 0.95858227, 0.3320312 , 0.23656991])"
      ]
     },
     "execution_count": 221,
     "metadata": {},
     "output_type": "execute_result"
    }
   ],
   "source": [
    "np.random.rand(5)"
   ]
  },
  {
   "cell_type": "code",
   "execution_count": 223,
   "id": "ffbfcec8-160d-4758-9692-ecf5ea6a2ce9",
   "metadata": {},
   "outputs": [
    {
     "data": {
      "text/plain": [
       "array([[0.69304519, 0.49308031, 0.57521266, 0.03949066, 0.8574756 ,\n",
       "        0.8112926 , 0.31016038, 0.22844521, 0.25348165],\n",
       "       [0.47046381, 0.46646679, 0.57237593, 0.30069112, 0.97949178,\n",
       "        0.63764344, 0.64927751, 0.4111517 , 0.07274976]])"
      ]
     },
     "execution_count": 223,
     "metadata": {},
     "output_type": "execute_result"
    }
   ],
   "source": [
    "np.random.rand(2,9)"
   ]
  },
  {
   "cell_type": "code",
   "execution_count": 229,
   "id": "9ac00ab9-f2e7-4382-a880-d240844d8248",
   "metadata": {},
   "outputs": [
    {
     "data": {
      "text/plain": [
       "array([[[0.91938771, 0.14271469, 0.34647307, ..., 0.38282271,\n",
       "         0.24141266, 0.7072002 ],\n",
       "        [0.80880982, 0.98602382, 0.12716627, ..., 0.19366709,\n",
       "         0.5770167 , 0.4351781 ],\n",
       "        [0.55946752, 0.73118214, 0.41524366, ..., 0.39257459,\n",
       "         0.7409753 , 0.68665249],\n",
       "        ...,\n",
       "        [0.11425374, 0.4167172 , 0.7521613 , ..., 0.02719238,\n",
       "         0.2458724 , 0.75836066],\n",
       "        [0.79049561, 0.97212135, 0.10243492, ..., 0.08511172,\n",
       "         0.30954126, 0.17785911],\n",
       "        [0.79492668, 0.72732537, 0.99689656, ..., 0.8308583 ,\n",
       "         0.48064967, 0.01544647]],\n",
       "\n",
       "       [[0.8728069 , 0.77903801, 0.39061737, ..., 0.73539875,\n",
       "         0.66074852, 0.87050637],\n",
       "        [0.24266938, 0.246365  , 0.965347  , ..., 0.19692305,\n",
       "         0.41066873, 0.117715  ],\n",
       "        [0.81733426, 0.51016601, 0.07390099, ..., 0.67589173,\n",
       "         0.77778657, 0.39830923],\n",
       "        ...,\n",
       "        [0.0038975 , 0.3703887 , 0.71861795, ..., 0.49277578,\n",
       "         0.88106399, 0.28207072],\n",
       "        [0.38874298, 0.61905875, 0.26235991, ..., 0.74997266,\n",
       "         0.9261432 , 0.45368933],\n",
       "        [0.3921022 , 0.81207859, 0.59874282, ..., 0.67078824,\n",
       "         0.42955484, 0.33445575]],\n",
       "\n",
       "       [[0.01562754, 0.84805676, 0.73981833, ..., 0.31772473,\n",
       "         0.74998214, 0.87458439],\n",
       "        [0.94688925, 0.82909969, 0.607632  , ..., 0.20297208,\n",
       "         0.24129861, 0.77400416],\n",
       "        [0.61487037, 0.84608893, 0.19316958, ..., 0.0433537 ,\n",
       "         0.66485116, 0.31064319],\n",
       "        ...,\n",
       "        [0.47295475, 0.39178767, 0.41822806, ..., 0.49363586,\n",
       "         0.42267314, 0.67491958],\n",
       "        [0.13154939, 0.52141446, 0.5428575 , ..., 0.99141168,\n",
       "         0.65432667, 0.17090739],\n",
       "        [0.5919522 , 0.41526233, 0.92608321, ..., 0.80190839,\n",
       "         0.35242062, 0.4813926 ]]])"
      ]
     },
     "execution_count": 229,
     "metadata": {},
     "output_type": "execute_result"
    }
   ],
   "source": [
    "np.random.rand(3,44,16)"
   ]
  },
  {
   "cell_type": "code",
   "execution_count": 235,
   "id": "ca375193-7554-44fd-8deb-b6d80b9d280c",
   "metadata": {},
   "outputs": [
    {
     "data": {
      "text/plain": [
       "1.7584395662605876"
      ]
     },
     "execution_count": 235,
     "metadata": {},
     "output_type": "execute_result"
    }
   ],
   "source": [
    "np.random.randn()"
   ]
  },
  {
   "cell_type": "code",
   "execution_count": 237,
   "id": "ac1e18a8-bd74-45c9-b841-25cbc617c70b",
   "metadata": {},
   "outputs": [
    {
     "data": {
      "text/plain": [
       "array([ 1.23537907,  1.48345204, -0.05462905, -0.87380063])"
      ]
     },
     "execution_count": 237,
     "metadata": {},
     "output_type": "execute_result"
    }
   ],
   "source": [
    "np.random.randn(4)"
   ]
  },
  {
   "cell_type": "code",
   "execution_count": 239,
   "id": "8573d885-3320-4fc8-8ec5-34f54d2e31e3",
   "metadata": {},
   "outputs": [
    {
     "data": {
      "text/plain": [
       "array([[-0.18933741, -0.38433344,  0.93802423, -0.26961155, -0.24816889,\n",
       "         0.36530105, -0.65064275, -0.85727007,  1.03656707, -0.89899116,\n",
       "         0.07935748,  0.09497372,  0.56582494, -0.55185092,  0.62607329,\n",
       "        -0.90684149, -1.01429669,  1.4779728 , -0.06633909,  0.16490961,\n",
       "        -0.58059754,  0.29619703,  0.48798626, -0.26059735,  0.98304459,\n",
       "        -0.17740414,  1.55728389,  1.28296685, -0.80177446, -1.51688917,\n",
       "        -0.80115333, -1.51135275, -1.48536872, -1.15386953,  0.75152547,\n",
       "         0.349386  ,  1.17097723, -1.08262227, -0.24717552,  2.00112478,\n",
       "         2.01756528,  0.59279607,  0.57455497,  0.86163024, -0.48213788],\n",
       "       [-0.62061436,  0.05665766,  1.66421149, -2.1321705 , -0.66201735,\n",
       "        -1.50156681,  2.35691039,  0.7900249 , -0.78073461,  0.09109267,\n",
       "         0.38523142,  0.44756286,  0.3122657 , -0.14946782, -0.64005448,\n",
       "        -0.31830203,  0.98167771,  0.71063952,  1.17987484,  1.24745876,\n",
       "        -0.73329938, -0.38147104, -0.01581634, -1.00077278,  1.63298247,\n",
       "        -1.43775438, -0.36582162,  0.33589133, -1.13867093, -0.27831546,\n",
       "         0.04545536, -0.53699636,  0.32469164,  0.81532532,  0.81664718,\n",
       "        -0.89799029, -1.15135898, -0.15758111,  0.32565773, -0.12128282,\n",
       "        -0.10683098,  1.59874891, -0.45684683, -0.70252731, -0.5897055 ],\n",
       "       [-0.93626375, -1.58630222,  0.50328637, -1.69809863, -1.03760618,\n",
       "        -0.11247469,  0.97905623, -0.37559672,  0.21968764, -2.70631408,\n",
       "         0.68130847, -1.25330766, -0.29546683, -1.18424104,  2.41385947,\n",
       "         2.41434893,  0.42841773,  0.90163371,  0.10242938,  1.56332831,\n",
       "         0.16059333, -0.47487462, -0.56056987,  0.57586308,  0.11829224,\n",
       "        -0.64317044,  0.32585221,  1.31029204, -0.07417036,  0.79322741,\n",
       "         0.14441481, -0.66546856, -1.33913583,  1.04072593,  0.85672973,\n",
       "         0.17810651,  0.1449675 ,  0.08283532, -0.09673366, -1.01027853,\n",
       "         1.21874199,  0.73326638, -0.66077801,  1.93801121, -1.31511498]])"
      ]
     },
     "execution_count": 239,
     "metadata": {},
     "output_type": "execute_result"
    }
   ],
   "source": [
    "np.random.randn(3,45)"
   ]
  },
  {
   "cell_type": "code",
   "execution_count": 245,
   "id": "2e770f59-89ce-4eb2-92a1-9128bcd68e64",
   "metadata": {},
   "outputs": [
    {
     "data": {
      "text/plain": [
       "array([[[-1.42143376, -1.27924142,  0.64930301,  0.90368041,\n",
       "         -1.83805138,  0.5803255 ],\n",
       "        [-0.88087427,  1.37426157, -0.57847574,  1.0777527 ,\n",
       "         -1.01354471, -1.16480757],\n",
       "        [ 0.29349603, -0.09909918, -1.27066281,  1.11638275,\n",
       "         -1.39206867,  1.02977684],\n",
       "        [ 0.52820604, -0.80844544,  1.51339714,  0.93341689,\n",
       "         -0.55514234, -0.97359068],\n",
       "        [ 0.64529807,  0.79075464,  1.27439586,  1.32731617,\n",
       "         -0.75057856, -0.10202666]],\n",
       "\n",
       "       [[-0.10831787, -0.35118466,  0.71418662, -0.54202584,\n",
       "         -0.08936866, -0.88815821],\n",
       "        [ 0.12624798,  0.30660574,  0.38819758,  0.34430023,\n",
       "         -1.64408935,  0.50260921],\n",
       "        [-2.06676232, -0.27334059,  2.15607283, -2.04302329,\n",
       "         -0.61689091, -0.2670295 ],\n",
       "        [-0.39141379, -0.29173642, -0.89294373, -1.81384973,\n",
       "         -0.04129157,  1.05376677],\n",
       "        [-0.59602446,  0.20922921, -0.87831405,  0.7644558 ,\n",
       "          1.74026216, -1.08105579]],\n",
       "\n",
       "       [[-0.27430833,  0.92908193,  0.29896844, -0.150836  ,\n",
       "          0.8152251 ,  0.42789367],\n",
       "        [ 0.24076503,  0.95286432, -0.33466931, -0.29567411,\n",
       "          1.29989623, -0.06689056],\n",
       "        [ 1.4803788 , -0.28465311, -0.18705834, -1.12461698,\n",
       "         -0.76162985,  0.41389962],\n",
       "        [ 0.56300138,  0.86272612,  0.36471908, -0.60116906,\n",
       "         -0.6116763 ,  0.60906838],\n",
       "        [-1.51671571,  0.28686061, -0.62112817,  0.05711678,\n",
       "          0.2280116 , -0.40819704]],\n",
       "\n",
       "       [[ 0.44427063,  0.41437679,  0.18872974,  0.28499001,\n",
       "          0.00546586,  0.69802608],\n",
       "        [ 0.21454672, -0.24322219, -2.37279766,  0.18519857,\n",
       "          1.95218661,  0.48003381],\n",
       "        [ 1.35230215, -0.35705309, -0.30302822, -0.13069352,\n",
       "          0.182758  , -0.19767877],\n",
       "        [-1.55559437,  2.54933591, -1.31100761,  0.22614813,\n",
       "         -0.89142627,  0.92247534],\n",
       "        [-0.28495409,  0.30220695,  1.04123666, -1.06388258,\n",
       "         -0.5892401 , -0.4222328 ]]])"
      ]
     },
     "execution_count": 245,
     "metadata": {},
     "output_type": "execute_result"
    }
   ],
   "source": [
    "np.random.randn(4,5,6)"
   ]
  },
  {
   "cell_type": "code",
   "execution_count": 247,
   "id": "8efab302-dd81-4006-a9c2-b279335b8e25",
   "metadata": {},
   "outputs": [
    {
     "data": {
      "text/plain": [
       "2.9741902657449826"
      ]
     },
     "execution_count": 247,
     "metadata": {},
     "output_type": "execute_result"
    }
   ],
   "source": [
    "np.random.uniform(2,4)"
   ]
  },
  {
   "cell_type": "code",
   "execution_count": 251,
   "id": "e7f5b0c3-c8e5-4848-a561-eb4dee103f02",
   "metadata": {},
   "outputs": [
    {
     "data": {
      "text/plain": [
       "array([4.88902196, 3.88255059, 3.06658897, 3.56263008, 3.32498438,\n",
       "       4.31268772, 3.10904263])"
      ]
     },
     "execution_count": 251,
     "metadata": {},
     "output_type": "execute_result"
    }
   ],
   "source": [
    "np.random.uniform(3,5,7)"
   ]
  },
  {
   "cell_type": "code",
   "execution_count": 255,
   "id": "13d08c79-0989-48a2-94ad-6fbde1fe878a",
   "metadata": {},
   "outputs": [
    {
     "data": {
      "text/plain": [
       "2.1560533735803955"
      ]
     },
     "execution_count": 255,
     "metadata": {},
     "output_type": "execute_result"
    }
   ],
   "source": [
    "np.random.uniform(3)"
   ]
  },
  {
   "cell_type": "code",
   "execution_count": 259,
   "id": "51590ed4-c23a-45d6-af24-93572c79e12a",
   "metadata": {},
   "outputs": [
    {
     "data": {
      "text/plain": [
       "0.15222519173252558"
      ]
     },
     "execution_count": 259,
     "metadata": {},
     "output_type": "execute_result"
    }
   ],
   "source": [
    "np.random.uniform()"
   ]
  },
  {
   "cell_type": "code",
   "execution_count": 263,
   "id": "6c4a1b24-41ea-42df-a255-75154e130088",
   "metadata": {},
   "outputs": [
    {
     "data": {
      "text/plain": [
       "6"
      ]
     },
     "execution_count": 263,
     "metadata": {},
     "output_type": "execute_result"
    }
   ],
   "source": [
    "np.random.choice([2,4,6,8,10,12,14,16,18,20])"
   ]
  },
  {
   "cell_type": "code",
   "execution_count": 269,
   "id": "0ecb3194-ae59-4eea-a712-8cfd10507c93",
   "metadata": {},
   "outputs": [
    {
     "data": {
      "text/plain": [
       "array([12, 16,  8, 20])"
      ]
     },
     "execution_count": 269,
     "metadata": {},
     "output_type": "execute_result"
    }
   ],
   "source": [
    "np.random.choice([2,4,6,8,10,12,14,16,18,20],4)"
   ]
  },
  {
   "cell_type": "code",
   "execution_count": 271,
   "id": "833a7989-b792-4b42-a350-82a69e32677f",
   "metadata": {},
   "outputs": [
    {
     "data": {
      "text/plain": [
       "array([12,  5,  8, 12, 12,  1,  4,  0,  1,  4,  1,  2, 12,  5,  9,  5,  0,\n",
       "        7,  6,  9,  8,  6,  1,  9,  2,  3,  4,  9,  2,  2,  1,  7,  8,  2,\n",
       "        7,  3,  5,  8, 10, 12,  3,  8,  2,  7, 11, 12,  4,  5,  7,  9, 12,\n",
       "        9,  6,  1,  7,  0,  0,  1,  8,  8,  0,  6,  8,  4,  4,  3,  6,  9,\n",
       "       11, 10,  4,  3,  4,  8,  9,  4, 12,  8,  9,  7,  6,  7,  8,  5,  0,\n",
       "        3,  3,  6,  5, 10, 10,  8,  2,  0, 12,  3, 11, 10,  7,  4,  2, 10,\n",
       "        1,  9,  4,  9,  2,  5, 10,  1,  5,  7,  1,  8,  7,  3,  0,  9, 12,\n",
       "        1,  3,  1,  6,  0, 10,  3,  8,  6,  1,  6, 11,  1, 10])"
      ]
     },
     "execution_count": 271,
     "metadata": {},
     "output_type": "execute_result"
    }
   ],
   "source": [
    "np.random.choice(13,133)"
   ]
  },
  {
   "cell_type": "code",
   "execution_count": 275,
   "id": "c14a7dd7-330e-4af4-8f76-9e63dbdccd1a",
   "metadata": {},
   "outputs": [
    {
     "data": {
      "text/plain": [
       "7"
      ]
     },
     "execution_count": 275,
     "metadata": {},
     "output_type": "execute_result"
    }
   ],
   "source": [
    "np.random.choice(29)"
   ]
  },
  {
   "cell_type": "code",
   "execution_count": 283,
   "id": "a2f11aff-c2b7-4ed2-9e26-9e426ebe64f8",
   "metadata": {},
   "outputs": [
    {
     "data": {
      "text/plain": [
       "array([14, 10, 10, 18, 12,  2, 20,  4, 14,  6, 18,  6,  4,  6,  8, 10,  6,\n",
       "        2, 10, 10,  2, 10, 18, 10,  2, 16,  4,  6, 14, 12, 14, 14,  2, 14,\n",
       "       12,  4,  4, 14,  8, 16])"
      ]
     },
     "execution_count": 283,
     "metadata": {},
     "output_type": "execute_result"
    }
   ],
   "source": [
    "\n",
    "np.random.choice([2,4,6,8,10,12,14,16,18,20],size=40,replace=True)"
   ]
  },
  {
   "cell_type": "code",
   "execution_count": 285,
   "id": "c9a5fe1e-1c65-45f4-b876-5f5d33ee5a29",
   "metadata": {},
   "outputs": [
    {
     "data": {
      "text/plain": [
       "array([16,  4,  8,  2])"
      ]
     },
     "execution_count": 285,
     "metadata": {},
     "output_type": "execute_result"
    }
   ],
   "source": [
    "np.random.choice([2,4,6,8,10,12,14,16,18,20],size=4,replace=False)"
   ]
  },
  {
   "cell_type": "markdown",
   "id": "504901a7-f490-45ef-bf96-35c731d1f3f4",
   "metadata": {},
   "source": [
    "# Linspace function\n",
    "\n",
    "returns evenly spaced values in a given interval\n",
    "\n",
    "by default it shows 50 values"
   ]
  },
  {
   "cell_type": "code",
   "execution_count": 288,
   "id": "a572bf5c-ee30-4368-a4d2-ff88cf4b0f43",
   "metadata": {},
   "outputs": [],
   "source": [
    "import numpy as np"
   ]
  },
  {
   "cell_type": "code",
   "execution_count": 326,
   "id": "6b97cdab-da9e-4a91-b2e7-34ff19777b2f",
   "metadata": {},
   "outputs": [],
   "source": [
    "A=np.linspace(2,30,num=11,retstep=True)"
   ]
  },
  {
   "cell_type": "code",
   "execution_count": 328,
   "id": "549bc2a5-bac5-4955-9a1e-83c0208f3ab9",
   "metadata": {},
   "outputs": [
    {
     "name": "stdout",
     "output_type": "stream",
     "text": [
      "(array([ 2. ,  4.8,  7.6, 10.4, 13.2, 16. , 18.8, 21.6, 24.4, 27.2, 30. ]), 2.8)\n"
     ]
    }
   ],
   "source": [
    "print(A)"
   ]
  },
  {
   "cell_type": "code",
   "execution_count": 296,
   "id": "dc9f6e52-f864-4160-a10f-eb5b170af23c",
   "metadata": {},
   "outputs": [
    {
     "name": "stdout",
     "output_type": "stream",
     "text": [
      "[ 2.   4.8  7.6 10.4 13.2 16.  18.8 21.6 24.4 27.2 30. ]\n"
     ]
    }
   ],
   "source": [
    "np.linspace(2,34,num=13,endpoint=False)\n",
    "print(A)"
   ]
  },
  {
   "cell_type": "code",
   "execution_count": 300,
   "id": "6f4c454d-6e9d-4819-87f7-e02606085020",
   "metadata": {},
   "outputs": [
    {
     "name": "stdout",
     "output_type": "stream",
     "text": [
      "[ 2.          4.90909091  7.81818182 10.72727273 13.63636364 16.54545455\n",
      " 19.45454545 22.36363636 25.27272727 28.18181818 31.09090909 34.        ]\n"
     ]
    }
   ],
   "source": [
    "A=np.linspace(2,34,num=12,endpoint=True)\n",
    "print(A)"
   ]
  },
  {
   "cell_type": "code",
   "execution_count": 308,
   "id": "cbaf70c0-5b64-4479-8db3-45ee1498a6e6",
   "metadata": {},
   "outputs": [
    {
     "name": "stdout",
     "output_type": "stream",
     "text": [
      "[ 2.          4.66666667  7.33333333 10.         12.66666667 15.33333333\n",
      " 18.         20.66666667 23.33333333 26.         28.66666667 31.33333333]\n"
     ]
    }
   ],
   "source": [
    "A=np.linspace(2,34,num=12,endpoint=False)\n",
    "print(A)"
   ]
  },
  {
   "cell_type": "code",
   "execution_count": 312,
   "id": "fa72ddca-d18f-4317-b1f9-9d046cd3a0da",
   "metadata": {},
   "outputs": [
    {
     "name": "stdout",
     "output_type": "stream",
     "text": [
      "[ 2  4  7 10 13 16 19 22 25 28 31 34]\n"
     ]
    }
   ],
   "source": [
    "A=np.linspace(2,34,num=12,endpoint=True,dtype=int)\n",
    "print(A)"
   ]
  },
  {
   "cell_type": "code",
   "execution_count": 334,
   "id": "905bd5ad-4a46-4d3b-afba-c353f36fdc46",
   "metadata": {},
   "outputs": [
    {
     "name": "stdout",
     "output_type": "stream",
     "text": [
      "['2.0' '4.909090909090909' '7.818181818181818' '10.727272727272727'\n",
      " '13.636363636363637' '16.545454545454547' '19.454545454545453'\n",
      " '22.363636363636363' '25.272727272727273' '28.181818181818183'\n",
      " '31.090909090909093' '34.0']\n"
     ]
    }
   ],
   "source": [
    "A=np.linspace(2,34,num=12,endpoint=True,dtype=str,retstep=False)\n",
    "print(A)"
   ]
  },
  {
   "cell_type": "code",
   "execution_count": 336,
   "id": "839fa6c7-02aa-4e2e-b309-bfeb14fdcfe9",
   "metadata": {},
   "outputs": [
    {
     "name": "stdout",
     "output_type": "stream",
     "text": [
      "(array([ 2.        ,  2.72727273,  3.45454545,  4.18181818,  4.90909091,\n",
      "        5.63636364,  6.36363636,  7.09090909,  7.81818182,  8.54545455,\n",
      "        9.27272727, 10.        , 10.72727273, 11.45454545, 12.18181818,\n",
      "       12.90909091, 13.63636364, 14.36363636, 15.09090909, 15.81818182,\n",
      "       16.54545455, 17.27272727, 18.        , 18.72727273, 19.45454545,\n",
      "       20.18181818, 20.90909091, 21.63636364, 22.36363636, 23.09090909,\n",
      "       23.81818182, 24.54545455, 25.27272727, 26.        , 26.72727273,\n",
      "       27.45454545, 28.18181818, 28.90909091, 29.63636364, 30.36363636,\n",
      "       31.09090909, 31.81818182, 32.54545455, 33.27272727, 34.        ]), 0.7272727272727273)\n"
     ]
    }
   ],
   "source": [
    "A=np.linspace(2,34,num=45,retstep=True)\n",
    "print(A)"
   ]
  },
  {
   "cell_type": "markdown",
   "id": "d9a7dfcf-c4e5-4156-aa52-5a1e65221544",
   "metadata": {},
   "source": [
    "# Empty Function\n",
    "\n",
    "used to create an array of arbitrary values of given shape and datatype without initializing the entries"
   ]
  },
  {
   "cell_type": "code",
   "execution_count": 339,
   "id": "58367bbc-31df-4786-ae48-1cea36733f91",
   "metadata": {},
   "outputs": [],
   "source": [
    "import numpy as np"
   ]
  },
  {
   "cell_type": "code",
   "execution_count": 341,
   "id": "f3cc09d1-e12e-4770-bc24-ecd4ab5627f9",
   "metadata": {},
   "outputs": [],
   "source": [
    "a=np.empty(4)"
   ]
  },
  {
   "cell_type": "code",
   "execution_count": 343,
   "id": "df9e534f-21ff-4da3-b12d-dc3a4fc09e54",
   "metadata": {},
   "outputs": [
    {
     "name": "stdout",
     "output_type": "stream",
     "text": [
      "[1.23537907 1.48345204 0.05462905 0.87380063]\n"
     ]
    }
   ],
   "source": [
    "print(a)"
   ]
  },
  {
   "cell_type": "code",
   "execution_count": 345,
   "id": "4bb13259-464a-479a-8749-d935f5d80dd9",
   "metadata": {},
   "outputs": [
    {
     "name": "stdout",
     "output_type": "stream",
     "text": [
      "[-1481273904         139           0           0]\n"
     ]
    }
   ],
   "source": [
    "a=np.empty(4,dtype=int)\n",
    "print(a)"
   ]
  },
  {
   "cell_type": "code",
   "execution_count": 349,
   "id": "c24cc7c0-b8f9-46d1-8a53-76806e6fe231",
   "metadata": {},
   "outputs": [],
   "source": [
    "a=np.empty(6,dtype=object)"
   ]
  },
  {
   "cell_type": "code",
   "execution_count": 353,
   "id": "f551b8b8-6771-4a52-a90d-44acfe745c8e",
   "metadata": {},
   "outputs": [
    {
     "data": {
      "text/plain": [
       "array([None, None, None, None, None, None], dtype=object)"
      ]
     },
     "execution_count": 353,
     "metadata": {},
     "output_type": "execute_result"
    }
   ],
   "source": [
    "a"
   ]
  },
  {
   "cell_type": "code",
   "execution_count": 355,
   "id": "1ed16b9b-7c62-48bf-9707-8333b25e480f",
   "metadata": {},
   "outputs": [],
   "source": [
    "c=np.empty((5,2))"
   ]
  },
  {
   "cell_type": "code",
   "execution_count": 357,
   "id": "ea752e4b-ec21-48ce-9130-9b68bb3a5c4e",
   "metadata": {},
   "outputs": [
    {
     "data": {
      "text/plain": [
       "array([[6.23042070e-307, 4.67296746e-307],\n",
       "       [1.69121096e-306, 1.24610994e-306],\n",
       "       [1.42413555e-306, 1.78019082e-306],\n",
       "       [1.37959740e-306, 6.23057349e-307],\n",
       "       [1.42419530e-306, 4.42622108e-315]])"
      ]
     },
     "execution_count": 357,
     "metadata": {},
     "output_type": "execute_result"
    }
   ],
   "source": [
    "c"
   ]
  },
  {
   "cell_type": "code",
   "execution_count": 367,
   "id": "834b3841-5fef-4929-b8c8-b5ed51ca3a82",
   "metadata": {},
   "outputs": [
    {
     "data": {
      "text/plain": [
       "array([[0, 0, 0, 0, 0],\n",
       "       [0, 0, 0, 0, 0],\n",
       "       [0, 0, 0, 0, 0]])"
      ]
     },
     "execution_count": 367,
     "metadata": {},
     "output_type": "execute_result"
    }
   ],
   "source": [
    "b=np.empty((3,5),dtype=int)\n",
    "b"
   ]
  },
  {
   "cell_type": "code",
   "execution_count": 369,
   "id": "1841a977-f69c-4a1a-8526-2137d7a08591",
   "metadata": {},
   "outputs": [
    {
     "data": {
      "text/plain": [
       "array([['', '', '', '', ''],\n",
       "       ['', '', '', '', ''],\n",
       "       ['', '', '', '', '']], dtype='<U1')"
      ]
     },
     "execution_count": 369,
     "metadata": {},
     "output_type": "execute_result"
    }
   ],
   "source": [
    "b=np.empty((3,5),dtype=str)\n",
    "b"
   ]
  },
  {
   "cell_type": "code",
   "execution_count": 371,
   "id": "51e59033-81db-4ee6-8c9d-b9a904669a8d",
   "metadata": {},
   "outputs": [
    {
     "data": {
      "text/plain": [
       "array([[None, None, None, None, None, None, None, None, None, None, None],\n",
       "       [None, None, None, None, None, None, None, None, None, None, None],\n",
       "       [None, None, None, None, None, None, None, None, None, None, None],\n",
       "       [None, None, None, None, None, None, None, None, None, None, None],\n",
       "       [None, None, None, None, None, None, None, None, None, None, None]],\n",
       "      dtype=object)"
      ]
     },
     "execution_count": 371,
     "metadata": {},
     "output_type": "execute_result"
    }
   ],
   "source": [
    "b=np.empty((5,11),dtype=object)\n",
    "b"
   ]
  },
  {
   "cell_type": "code",
   "execution_count": 373,
   "id": "8daae760-ecf8-4985-9a6b-ea6c09c111ce",
   "metadata": {},
   "outputs": [
    {
     "data": {
      "text/plain": [
       "array([[[1.42143376, 1.27924142, 0.64930301, 0.90368041, 1.83805138,\n",
       "         0.5803255 , 0.88087427, 1.37426157],\n",
       "        [0.57847574, 1.0777527 , 1.01354471, 1.16480757, 0.29349603,\n",
       "         0.09909918, 1.27066281, 1.11638275],\n",
       "        [1.39206867, 1.02977684, 0.52820604, 0.80844544, 1.51339714,\n",
       "         0.93341689, 0.55514234, 0.97359068],\n",
       "        [0.64529807, 0.79075464, 1.27439586, 1.32731617, 0.75057856,\n",
       "         0.10202666, 0.10831787, 0.35118466],\n",
       "        [0.71418662, 0.54202584, 0.08936866, 0.88815821, 0.12624798,\n",
       "         0.30660574, 0.38819758, 0.34430023]],\n",
       "\n",
       "       [[1.64408935, 0.50260921, 2.06676232, 0.27334059, 2.15607283,\n",
       "         2.04302329, 0.61689091, 0.2670295 ],\n",
       "        [0.39141379, 0.29173642, 0.89294373, 1.81384973, 0.04129157,\n",
       "         1.05376677, 0.59602446, 0.20922921],\n",
       "        [0.87831405, 0.7644558 , 1.74026216, 1.08105579, 0.27430833,\n",
       "         0.92908193, 0.29896844, 0.150836  ],\n",
       "        [0.8152251 , 0.42789367, 0.24076503, 0.95286432, 0.33466931,\n",
       "         0.29567411, 1.29989623, 0.06689056],\n",
       "        [1.4803788 , 0.28465311, 0.18705834, 1.12461698, 0.76162985,\n",
       "         0.41389962, 0.56300138, 0.86272612]],\n",
       "\n",
       "       [[0.36471908, 0.60116906, 0.6116763 , 0.60906838, 1.51671571,\n",
       "         0.28686061, 0.62112817, 0.05711678],\n",
       "        [0.2280116 , 0.40819704, 0.44427063, 0.41437679, 0.18872974,\n",
       "         0.28499001, 0.00546586, 0.69802608],\n",
       "        [0.21454672, 0.24322219, 2.37279766, 0.18519857, 1.95218661,\n",
       "         0.48003381, 1.35230215, 0.35705309],\n",
       "        [0.30302822, 0.13069352, 0.182758  , 0.19767877, 1.55559437,\n",
       "         2.54933591, 1.31100761, 0.22614813],\n",
       "        [0.89142627, 0.92247534, 0.28495409, 0.30220695, 1.04123666,\n",
       "         1.06388258, 0.5892401 , 0.4222328 ]]])"
      ]
     },
     "execution_count": 373,
     "metadata": {},
     "output_type": "execute_result"
    }
   ],
   "source": [
    "a=np.empty([3,5,8])\n",
    "a"
   ]
  },
  {
   "cell_type": "code",
   "execution_count": 377,
   "id": "6de00b2d-865d-4157-bfad-28a488364079",
   "metadata": {},
   "outputs": [],
   "source": [
    "a=np.empty([2,4,6],dtype=int)"
   ]
  },
  {
   "cell_type": "code",
   "execution_count": 381,
   "id": "e674a38a-9c27-4b53-a3c4-1bc9faec2b2c",
   "metadata": {},
   "outputs": [
    {
     "data": {
      "text/plain": [
       "array([[[0, 0, 0, 0, 0, 0],\n",
       "        [0, 0, 0, 0, 0, 0],\n",
       "        [0, 0, 0, 0, 0, 0],\n",
       "        [0, 0, 0, 0, 0, 0]],\n",
       "\n",
       "       [[0, 0, 0, 0, 0, 0],\n",
       "        [0, 0, 0, 0, 0, 0],\n",
       "        [0, 0, 0, 0, 0, 0],\n",
       "        [0, 0, 0, 0, 0, 0]]])"
      ]
     },
     "execution_count": 381,
     "metadata": {},
     "output_type": "execute_result"
    }
   ],
   "source": [
    "a"
   ]
  },
  {
   "cell_type": "code",
   "execution_count": 385,
   "id": "a92e0a35-433c-4621-bae1-2f4a3d12dd50",
   "metadata": {},
   "outputs": [
    {
     "name": "stdout",
     "output_type": "stream",
     "text": [
      "[[[None None None None None None]\n",
      "  [None None None None None None]\n",
      "  [None None None None None None]\n",
      "  [None None None None None None]]\n",
      "\n",
      " [[None None None None None None]\n",
      "  [None None None None None None]\n",
      "  [None None None None None None]\n",
      "  [None None None None None None]]]\n"
     ]
    }
   ],
   "source": [
    "a=np.empty([2,4,6],dtype=object)\n",
    "print(a)"
   ]
  },
  {
   "cell_type": "markdown",
   "id": "36ab4e07-75ba-4acb-9aee-57ae842bf043",
   "metadata": {},
   "source": [
    "# Eye function\n",
    "\n",
    "returns a 2-D array with 1 on diagnonal and 0 elsewhere"
   ]
  },
  {
   "cell_type": "code",
   "execution_count": 388,
   "id": "3f5128f8-0661-45bd-8039-9cddf6e6d441",
   "metadata": {},
   "outputs": [
    {
     "data": {
      "text/plain": [
       "array([[1., 0., 0., 0., 0., 0., 0., 0., 0., 0., 0., 0., 0., 0., 0., 0.,\n",
       "        0., 0., 0., 0., 0., 0., 0.],\n",
       "       [0., 1., 0., 0., 0., 0., 0., 0., 0., 0., 0., 0., 0., 0., 0., 0.,\n",
       "        0., 0., 0., 0., 0., 0., 0.],\n",
       "       [0., 0., 1., 0., 0., 0., 0., 0., 0., 0., 0., 0., 0., 0., 0., 0.,\n",
       "        0., 0., 0., 0., 0., 0., 0.],\n",
       "       [0., 0., 0., 1., 0., 0., 0., 0., 0., 0., 0., 0., 0., 0., 0., 0.,\n",
       "        0., 0., 0., 0., 0., 0., 0.],\n",
       "       [0., 0., 0., 0., 1., 0., 0., 0., 0., 0., 0., 0., 0., 0., 0., 0.,\n",
       "        0., 0., 0., 0., 0., 0., 0.],\n",
       "       [0., 0., 0., 0., 0., 1., 0., 0., 0., 0., 0., 0., 0., 0., 0., 0.,\n",
       "        0., 0., 0., 0., 0., 0., 0.],\n",
       "       [0., 0., 0., 0., 0., 0., 1., 0., 0., 0., 0., 0., 0., 0., 0., 0.,\n",
       "        0., 0., 0., 0., 0., 0., 0.],\n",
       "       [0., 0., 0., 0., 0., 0., 0., 1., 0., 0., 0., 0., 0., 0., 0., 0.,\n",
       "        0., 0., 0., 0., 0., 0., 0.],\n",
       "       [0., 0., 0., 0., 0., 0., 0., 0., 1., 0., 0., 0., 0., 0., 0., 0.,\n",
       "        0., 0., 0., 0., 0., 0., 0.],\n",
       "       [0., 0., 0., 0., 0., 0., 0., 0., 0., 1., 0., 0., 0., 0., 0., 0.,\n",
       "        0., 0., 0., 0., 0., 0., 0.],\n",
       "       [0., 0., 0., 0., 0., 0., 0., 0., 0., 0., 1., 0., 0., 0., 0., 0.,\n",
       "        0., 0., 0., 0., 0., 0., 0.],\n",
       "       [0., 0., 0., 0., 0., 0., 0., 0., 0., 0., 0., 1., 0., 0., 0., 0.,\n",
       "        0., 0., 0., 0., 0., 0., 0.],\n",
       "       [0., 0., 0., 0., 0., 0., 0., 0., 0., 0., 0., 0., 1., 0., 0., 0.,\n",
       "        0., 0., 0., 0., 0., 0., 0.],\n",
       "       [0., 0., 0., 0., 0., 0., 0., 0., 0., 0., 0., 0., 0., 1., 0., 0.,\n",
       "        0., 0., 0., 0., 0., 0., 0.],\n",
       "       [0., 0., 0., 0., 0., 0., 0., 0., 0., 0., 0., 0., 0., 0., 1., 0.,\n",
       "        0., 0., 0., 0., 0., 0., 0.],\n",
       "       [0., 0., 0., 0., 0., 0., 0., 0., 0., 0., 0., 0., 0., 0., 0., 1.,\n",
       "        0., 0., 0., 0., 0., 0., 0.],\n",
       "       [0., 0., 0., 0., 0., 0., 0., 0., 0., 0., 0., 0., 0., 0., 0., 0.,\n",
       "        1., 0., 0., 0., 0., 0., 0.],\n",
       "       [0., 0., 0., 0., 0., 0., 0., 0., 0., 0., 0., 0., 0., 0., 0., 0.,\n",
       "        0., 1., 0., 0., 0., 0., 0.],\n",
       "       [0., 0., 0., 0., 0., 0., 0., 0., 0., 0., 0., 0., 0., 0., 0., 0.,\n",
       "        0., 0., 1., 0., 0., 0., 0.],\n",
       "       [0., 0., 0., 0., 0., 0., 0., 0., 0., 0., 0., 0., 0., 0., 0., 0.,\n",
       "        0., 0., 0., 1., 0., 0., 0.],\n",
       "       [0., 0., 0., 0., 0., 0., 0., 0., 0., 0., 0., 0., 0., 0., 0., 0.,\n",
       "        0., 0., 0., 0., 1., 0., 0.],\n",
       "       [0., 0., 0., 0., 0., 0., 0., 0., 0., 0., 0., 0., 0., 0., 0., 0.,\n",
       "        0., 0., 0., 0., 0., 1., 0.],\n",
       "       [0., 0., 0., 0., 0., 0., 0., 0., 0., 0., 0., 0., 0., 0., 0., 0.,\n",
       "        0., 0., 0., 0., 0., 0., 1.]])"
      ]
     },
     "execution_count": 388,
     "metadata": {},
     "output_type": "execute_result"
    }
   ],
   "source": [
    "A=np.eye(23)\n",
    "A"
   ]
  },
  {
   "cell_type": "code",
   "execution_count": 390,
   "id": "d989d748-9058-41fa-89f5-a65d1ff20a0e",
   "metadata": {},
   "outputs": [
    {
     "data": {
      "text/plain": [
       "array([[1., 0.],\n",
       "       [0., 1.]])"
      ]
     },
     "execution_count": 390,
     "metadata": {},
     "output_type": "execute_result"
    }
   ],
   "source": [
    "A=np.eye(2,k=0)\n",
    "A"
   ]
  },
  {
   "cell_type": "code",
   "execution_count": 392,
   "id": "144476ab-451d-4746-a4ad-8c8be0d2c7f7",
   "metadata": {},
   "outputs": [
    {
     "data": {
      "text/plain": [
       "array([[0., 1., 0., 0., 0.],\n",
       "       [0., 0., 1., 0., 0.],\n",
       "       [0., 0., 0., 1., 0.],\n",
       "       [0., 0., 0., 0., 1.],\n",
       "       [0., 0., 0., 0., 0.]])"
      ]
     },
     "execution_count": 392,
     "metadata": {},
     "output_type": "execute_result"
    }
   ],
   "source": [
    "A=np.eye(5,k=1)\n",
    "A"
   ]
  },
  {
   "cell_type": "code",
   "execution_count": 394,
   "id": "86ebd10f-4f53-4240-8cbc-1043a7429edf",
   "metadata": {},
   "outputs": [
    {
     "data": {
      "text/plain": [
       "array([[0., 0., 0.],\n",
       "       [1., 0., 0.],\n",
       "       [0., 1., 0.]])"
      ]
     },
     "execution_count": 394,
     "metadata": {},
     "output_type": "execute_result"
    }
   ],
   "source": [
    "A=np.eye(3,k=-1)\n",
    "A"
   ]
  },
  {
   "cell_type": "code",
   "execution_count": 396,
   "id": "a8542380-72dd-4d2c-b3fb-9a04da562e77",
   "metadata": {},
   "outputs": [
    {
     "data": {
      "text/plain": [
       "array([[1, 0, 0, 0],\n",
       "       [0, 1, 0, 0],\n",
       "       [0, 0, 1, 0],\n",
       "       [0, 0, 0, 1]])"
      ]
     },
     "execution_count": 396,
     "metadata": {},
     "output_type": "execute_result"
    }
   ],
   "source": [
    "A=np.eye(4,dtype=int)\n",
    "A"
   ]
  },
  {
   "cell_type": "code",
   "execution_count": 398,
   "id": "05c13d2d-677c-48a7-a45a-2dac3e380f6d",
   "metadata": {},
   "outputs": [
    {
     "data": {
      "text/plain": [
       "array([[1., 0., 0., 0., 0., 0., 0.],\n",
       "       [0., 1., 0., 0., 0., 0., 0.],\n",
       "       [0., 0., 1., 0., 0., 0., 0.],\n",
       "       [0., 0., 0., 1., 0., 0., 0.],\n",
       "       [0., 0., 0., 0., 1., 0., 0.]])"
      ]
     },
     "execution_count": 398,
     "metadata": {},
     "output_type": "execute_result"
    }
   ],
   "source": [
    "A=np.eye(5,7)\n",
    "A"
   ]
  },
  {
   "cell_type": "code",
   "execution_count": 400,
   "id": "307620d8-2899-4dea-8462-f797aa4ff580",
   "metadata": {},
   "outputs": [
    {
     "data": {
      "text/plain": [
       "array([[1., 0., 0., 0., 0., 0., 0.],\n",
       "       [0., 1., 0., 0., 0., 0., 0.]])"
      ]
     },
     "execution_count": 400,
     "metadata": {},
     "output_type": "execute_result"
    }
   ],
   "source": [
    "A=np.eye(2,7)\n",
    "A"
   ]
  },
  {
   "cell_type": "code",
   "execution_count": 402,
   "id": "dd9234f9-143c-4afe-9bcf-3298c3c77d18",
   "metadata": {},
   "outputs": [
    {
     "data": {
      "text/plain": [
       "array([[1.]])"
      ]
     },
     "execution_count": 402,
     "metadata": {},
     "output_type": "execute_result"
    }
   ],
   "source": [
    "np.eye(1)"
   ]
  },
  {
   "cell_type": "code",
   "execution_count": 404,
   "id": "b8853f68-1701-466e-a539-ad64d3e8481c",
   "metadata": {},
   "outputs": [
    {
     "data": {
      "text/plain": [
       "array([[1., 0., 0., 0., 0., 0., 0., 0., 0., 0., 0., 0., 0.],\n",
       "       [0., 1., 0., 0., 0., 0., 0., 0., 0., 0., 0., 0., 0.],\n",
       "       [0., 0., 1., 0., 0., 0., 0., 0., 0., 0., 0., 0., 0.],\n",
       "       [0., 0., 0., 1., 0., 0., 0., 0., 0., 0., 0., 0., 0.],\n",
       "       [0., 0., 0., 0., 1., 0., 0., 0., 0., 0., 0., 0., 0.],\n",
       "       [0., 0., 0., 0., 0., 1., 0., 0., 0., 0., 0., 0., 0.],\n",
       "       [0., 0., 0., 0., 0., 0., 1., 0., 0., 0., 0., 0., 0.],\n",
       "       [0., 0., 0., 0., 0., 0., 0., 1., 0., 0., 0., 0., 0.],\n",
       "       [0., 0., 0., 0., 0., 0., 0., 0., 1., 0., 0., 0., 0.],\n",
       "       [0., 0., 0., 0., 0., 0., 0., 0., 0., 1., 0., 0., 0.],\n",
       "       [0., 0., 0., 0., 0., 0., 0., 0., 0., 0., 1., 0., 0.],\n",
       "       [0., 0., 0., 0., 0., 0., 0., 0., 0., 0., 0., 1., 0.],\n",
       "       [0., 0., 0., 0., 0., 0., 0., 0., 0., 0., 0., 0., 1.]])"
      ]
     },
     "execution_count": 404,
     "metadata": {},
     "output_type": "execute_result"
    }
   ],
   "source": [
    "np.eye(13)"
   ]
  },
  {
   "cell_type": "code",
   "execution_count": 408,
   "id": "4a5a5446-52d6-4087-b6b8-7449ce785863",
   "metadata": {},
   "outputs": [
    {
     "data": {
      "text/plain": [
       "array([[0, 0, 0, 0, 0, 1, 0],\n",
       "       [0, 0, 0, 0, 0, 0, 1],\n",
       "       [0, 0, 0, 0, 0, 0, 0]])"
      ]
     },
     "execution_count": 408,
     "metadata": {},
     "output_type": "execute_result"
    }
   ],
   "source": [
    "np.eye(3,7,k=5,dtype=int)"
   ]
  },
  {
   "cell_type": "code",
   "execution_count": 410,
   "id": "aeb0e01e-9911-4cb0-86f4-b1e589cc0451",
   "metadata": {},
   "outputs": [
    {
     "data": {
      "text/plain": [
       "array([['1', '', '', '', ''],\n",
       "       ['', '1', '', '', ''],\n",
       "       ['', '', '1', '', ''],\n",
       "       ['', '', '', '1', ''],\n",
       "       ['', '', '', '', '1']], dtype='<U1')"
      ]
     },
     "execution_count": 410,
     "metadata": {},
     "output_type": "execute_result"
    }
   ],
   "source": [
    "np.eye(5,dtype=str)"
   ]
  },
  {
   "cell_type": "code",
   "execution_count": 414,
   "id": "5cade32c-9314-4098-8ed4-f991088e18b1",
   "metadata": {},
   "outputs": [
    {
     "data": {
      "text/plain": [
       "2"
      ]
     },
     "execution_count": 414,
     "metadata": {},
     "output_type": "execute_result"
    }
   ],
   "source": [
    "np.ndim(A)"
   ]
  },
  {
   "cell_type": "markdown",
   "id": "20f84e1c-3e3c-4cb7-b75d-496c58b94a8e",
   "metadata": {},
   "source": [
    "# Identity Function\n",
    "\n",
    "returns an identity ie a square with 1 on the main diagonal and all other are 0"
   ]
  },
  {
   "cell_type": "code",
   "execution_count": 419,
   "id": "1eca7c1a-8de6-4dc2-87ac-c77b905c41df",
   "metadata": {},
   "outputs": [
    {
     "data": {
      "text/plain": [
       "array([[1., 0., 0., 0., 0., 0., 0., 0., 0., 0., 0., 0., 0., 0., 0., 0.,\n",
       "        0., 0., 0., 0., 0., 0., 0.],\n",
       "       [0., 1., 0., 0., 0., 0., 0., 0., 0., 0., 0., 0., 0., 0., 0., 0.,\n",
       "        0., 0., 0., 0., 0., 0., 0.],\n",
       "       [0., 0., 1., 0., 0., 0., 0., 0., 0., 0., 0., 0., 0., 0., 0., 0.,\n",
       "        0., 0., 0., 0., 0., 0., 0.],\n",
       "       [0., 0., 0., 1., 0., 0., 0., 0., 0., 0., 0., 0., 0., 0., 0., 0.,\n",
       "        0., 0., 0., 0., 0., 0., 0.],\n",
       "       [0., 0., 0., 0., 1., 0., 0., 0., 0., 0., 0., 0., 0., 0., 0., 0.,\n",
       "        0., 0., 0., 0., 0., 0., 0.],\n",
       "       [0., 0., 0., 0., 0., 1., 0., 0., 0., 0., 0., 0., 0., 0., 0., 0.,\n",
       "        0., 0., 0., 0., 0., 0., 0.],\n",
       "       [0., 0., 0., 0., 0., 0., 1., 0., 0., 0., 0., 0., 0., 0., 0., 0.,\n",
       "        0., 0., 0., 0., 0., 0., 0.],\n",
       "       [0., 0., 0., 0., 0., 0., 0., 1., 0., 0., 0., 0., 0., 0., 0., 0.,\n",
       "        0., 0., 0., 0., 0., 0., 0.],\n",
       "       [0., 0., 0., 0., 0., 0., 0., 0., 1., 0., 0., 0., 0., 0., 0., 0.,\n",
       "        0., 0., 0., 0., 0., 0., 0.],\n",
       "       [0., 0., 0., 0., 0., 0., 0., 0., 0., 1., 0., 0., 0., 0., 0., 0.,\n",
       "        0., 0., 0., 0., 0., 0., 0.],\n",
       "       [0., 0., 0., 0., 0., 0., 0., 0., 0., 0., 1., 0., 0., 0., 0., 0.,\n",
       "        0., 0., 0., 0., 0., 0., 0.],\n",
       "       [0., 0., 0., 0., 0., 0., 0., 0., 0., 0., 0., 1., 0., 0., 0., 0.,\n",
       "        0., 0., 0., 0., 0., 0., 0.],\n",
       "       [0., 0., 0., 0., 0., 0., 0., 0., 0., 0., 0., 0., 1., 0., 0., 0.,\n",
       "        0., 0., 0., 0., 0., 0., 0.],\n",
       "       [0., 0., 0., 0., 0., 0., 0., 0., 0., 0., 0., 0., 0., 1., 0., 0.,\n",
       "        0., 0., 0., 0., 0., 0., 0.],\n",
       "       [0., 0., 0., 0., 0., 0., 0., 0., 0., 0., 0., 0., 0., 0., 1., 0.,\n",
       "        0., 0., 0., 0., 0., 0., 0.],\n",
       "       [0., 0., 0., 0., 0., 0., 0., 0., 0., 0., 0., 0., 0., 0., 0., 1.,\n",
       "        0., 0., 0., 0., 0., 0., 0.],\n",
       "       [0., 0., 0., 0., 0., 0., 0., 0., 0., 0., 0., 0., 0., 0., 0., 0.,\n",
       "        1., 0., 0., 0., 0., 0., 0.],\n",
       "       [0., 0., 0., 0., 0., 0., 0., 0., 0., 0., 0., 0., 0., 0., 0., 0.,\n",
       "        0., 1., 0., 0., 0., 0., 0.],\n",
       "       [0., 0., 0., 0., 0., 0., 0., 0., 0., 0., 0., 0., 0., 0., 0., 0.,\n",
       "        0., 0., 1., 0., 0., 0., 0.],\n",
       "       [0., 0., 0., 0., 0., 0., 0., 0., 0., 0., 0., 0., 0., 0., 0., 0.,\n",
       "        0., 0., 0., 1., 0., 0., 0.],\n",
       "       [0., 0., 0., 0., 0., 0., 0., 0., 0., 0., 0., 0., 0., 0., 0., 0.,\n",
       "        0., 0., 0., 0., 1., 0., 0.],\n",
       "       [0., 0., 0., 0., 0., 0., 0., 0., 0., 0., 0., 0., 0., 0., 0., 0.,\n",
       "        0., 0., 0., 0., 0., 1., 0.],\n",
       "       [0., 0., 0., 0., 0., 0., 0., 0., 0., 0., 0., 0., 0., 0., 0., 0.,\n",
       "        0., 0., 0., 0., 0., 0., 1.]])"
      ]
     },
     "execution_count": 419,
     "metadata": {},
     "output_type": "execute_result"
    }
   ],
   "source": [
    "A=np.identity(23)\n",
    "A"
   ]
  },
  {
   "cell_type": "code",
   "execution_count": 421,
   "id": "bdd5c226-fd0e-4518-a002-2e4f8e59e0ed",
   "metadata": {},
   "outputs": [
    {
     "data": {
      "text/plain": [
       "array([[1, 0, 0, 0, 0],\n",
       "       [0, 1, 0, 0, 0],\n",
       "       [0, 0, 1, 0, 0],\n",
       "       [0, 0, 0, 1, 0],\n",
       "       [0, 0, 0, 0, 1]])"
      ]
     },
     "execution_count": 421,
     "metadata": {},
     "output_type": "execute_result"
    }
   ],
   "source": [
    "np.identity(5,dtype=int)\n"
   ]
  },
  {
   "cell_type": "code",
   "execution_count": 423,
   "id": "47b3044c-d044-405f-826a-6b29bb0ba916",
   "metadata": {},
   "outputs": [
    {
     "data": {
      "text/plain": [
       "2"
      ]
     },
     "execution_count": 423,
     "metadata": {},
     "output_type": "execute_result"
    }
   ],
   "source": [
    "A.ndim"
   ]
  },
  {
   "cell_type": "code",
   "execution_count": 427,
   "id": "dc8c1ced-f06f-4141-948c-27e5f39d1ada",
   "metadata": {},
   "outputs": [
    {
     "data": {
      "text/plain": [
       "529"
      ]
     },
     "execution_count": 427,
     "metadata": {},
     "output_type": "execute_result"
    }
   ],
   "source": [
    "\n",
    "A.size"
   ]
  },
  {
   "cell_type": "code",
   "execution_count": 429,
   "id": "84b60239-1a7f-463b-95bb-4209f7b70317",
   "metadata": {},
   "outputs": [
    {
     "data": {
      "text/plain": [
       "(23, 23)"
      ]
     },
     "execution_count": 429,
     "metadata": {},
     "output_type": "execute_result"
    }
   ],
   "source": [
    "A.shape"
   ]
  },
  {
   "cell_type": "code",
   "execution_count": 431,
   "id": "6758a982-2af4-4f8e-958c-9ee313d4b69a",
   "metadata": {},
   "outputs": [
    {
     "data": {
      "text/plain": [
       "array([[1., 0., 0., 0., 0., 0., 0., 0., 0., 0., 0., 0., 0., 0., 0., 0.,\n",
       "        0., 0., 0., 0., 0., 0., 0.],\n",
       "       [0., 1., 0., 0., 0., 0., 0., 0., 0., 0., 0., 0., 0., 0., 0., 0.,\n",
       "        0., 0., 0., 0., 0., 0., 0.],\n",
       "       [0., 0., 1., 0., 0., 0., 0., 0., 0., 0., 0., 0., 0., 0., 0., 0.,\n",
       "        0., 0., 0., 0., 0., 0., 0.],\n",
       "       [0., 0., 0., 1., 0., 0., 0., 0., 0., 0., 0., 0., 0., 0., 0., 0.,\n",
       "        0., 0., 0., 0., 0., 0., 0.],\n",
       "       [0., 0., 0., 0., 1., 0., 0., 0., 0., 0., 0., 0., 0., 0., 0., 0.,\n",
       "        0., 0., 0., 0., 0., 0., 0.],\n",
       "       [0., 0., 0., 0., 0., 1., 0., 0., 0., 0., 0., 0., 0., 0., 0., 0.,\n",
       "        0., 0., 0., 0., 0., 0., 0.],\n",
       "       [0., 0., 0., 0., 0., 0., 1., 0., 0., 0., 0., 0., 0., 0., 0., 0.,\n",
       "        0., 0., 0., 0., 0., 0., 0.],\n",
       "       [0., 0., 0., 0., 0., 0., 0., 1., 0., 0., 0., 0., 0., 0., 0., 0.,\n",
       "        0., 0., 0., 0., 0., 0., 0.],\n",
       "       [0., 0., 0., 0., 0., 0., 0., 0., 1., 0., 0., 0., 0., 0., 0., 0.,\n",
       "        0., 0., 0., 0., 0., 0., 0.],\n",
       "       [0., 0., 0., 0., 0., 0., 0., 0., 0., 1., 0., 0., 0., 0., 0., 0.,\n",
       "        0., 0., 0., 0., 0., 0., 0.],\n",
       "       [0., 0., 0., 0., 0., 0., 0., 0., 0., 0., 1., 0., 0., 0., 0., 0.,\n",
       "        0., 0., 0., 0., 0., 0., 0.],\n",
       "       [0., 0., 0., 0., 0., 0., 0., 0., 0., 0., 0., 1., 0., 0., 0., 0.,\n",
       "        0., 0., 0., 0., 0., 0., 0.],\n",
       "       [0., 0., 0., 0., 0., 0., 0., 0., 0., 0., 0., 0., 1., 0., 0., 0.,\n",
       "        0., 0., 0., 0., 0., 0., 0.],\n",
       "       [0., 0., 0., 0., 0., 0., 0., 0., 0., 0., 0., 0., 0., 1., 0., 0.,\n",
       "        0., 0., 0., 0., 0., 0., 0.],\n",
       "       [0., 0., 0., 0., 0., 0., 0., 0., 0., 0., 0., 0., 0., 0., 1., 0.,\n",
       "        0., 0., 0., 0., 0., 0., 0.],\n",
       "       [0., 0., 0., 0., 0., 0., 0., 0., 0., 0., 0., 0., 0., 0., 0., 1.,\n",
       "        0., 0., 0., 0., 0., 0., 0.],\n",
       "       [0., 0., 0., 0., 0., 0., 0., 0., 0., 0., 0., 0., 0., 0., 0., 0.,\n",
       "        1., 0., 0., 0., 0., 0., 0.],\n",
       "       [0., 0., 0., 0., 0., 0., 0., 0., 0., 0., 0., 0., 0., 0., 0., 0.,\n",
       "        0., 1., 0., 0., 0., 0., 0.],\n",
       "       [0., 0., 0., 0., 0., 0., 0., 0., 0., 0., 0., 0., 0., 0., 0., 0.,\n",
       "        0., 0., 1., 0., 0., 0., 0.],\n",
       "       [0., 0., 0., 0., 0., 0., 0., 0., 0., 0., 0., 0., 0., 0., 0., 0.,\n",
       "        0., 0., 0., 1., 0., 0., 0.],\n",
       "       [0., 0., 0., 0., 0., 0., 0., 0., 0., 0., 0., 0., 0., 0., 0., 0.,\n",
       "        0., 0., 0., 0., 1., 0., 0.],\n",
       "       [0., 0., 0., 0., 0., 0., 0., 0., 0., 0., 0., 0., 0., 0., 0., 0.,\n",
       "        0., 0., 0., 0., 0., 1., 0.],\n",
       "       [0., 0., 0., 0., 0., 0., 0., 0., 0., 0., 0., 0., 0., 0., 0., 0.,\n",
       "        0., 0., 0., 0., 0., 0., 1.]])"
      ]
     },
     "execution_count": 431,
     "metadata": {},
     "output_type": "execute_result"
    }
   ],
   "source": [
    "A"
   ]
  },
  {
   "cell_type": "code",
   "execution_count": 433,
   "id": "632a70cf-aa31-4cbc-833f-736955386143",
   "metadata": {},
   "outputs": [
    {
     "data": {
      "text/plain": [
       "array([[23.,  0.,  0.,  0.,  0.,  0.,  0.,  0.,  0.,  0.,  0.,  0.,  0.,\n",
       "         0.,  0.,  0.,  0.,  0.,  0.,  0.,  0.,  0.,  0.],\n",
       "       [ 0., 23.,  0.,  0.,  0.,  0.,  0.,  0.,  0.,  0.,  0.,  0.,  0.,\n",
       "         0.,  0.,  0.,  0.,  0.,  0.,  0.,  0.,  0.,  0.],\n",
       "       [ 0.,  0., 23.,  0.,  0.,  0.,  0.,  0.,  0.,  0.,  0.,  0.,  0.,\n",
       "         0.,  0.,  0.,  0.,  0.,  0.,  0.,  0.,  0.,  0.],\n",
       "       [ 0.,  0.,  0., 23.,  0.,  0.,  0.,  0.,  0.,  0.,  0.,  0.,  0.,\n",
       "         0.,  0.,  0.,  0.,  0.,  0.,  0.,  0.,  0.,  0.],\n",
       "       [ 0.,  0.,  0.,  0., 23.,  0.,  0.,  0.,  0.,  0.,  0.,  0.,  0.,\n",
       "         0.,  0.,  0.,  0.,  0.,  0.,  0.,  0.,  0.,  0.],\n",
       "       [ 0.,  0.,  0.,  0.,  0., 23.,  0.,  0.,  0.,  0.,  0.,  0.,  0.,\n",
       "         0.,  0.,  0.,  0.,  0.,  0.,  0.,  0.,  0.,  0.],\n",
       "       [ 0.,  0.,  0.,  0.,  0.,  0., 23.,  0.,  0.,  0.,  0.,  0.,  0.,\n",
       "         0.,  0.,  0.,  0.,  0.,  0.,  0.,  0.,  0.,  0.],\n",
       "       [ 0.,  0.,  0.,  0.,  0.,  0.,  0., 23.,  0.,  0.,  0.,  0.,  0.,\n",
       "         0.,  0.,  0.,  0.,  0.,  0.,  0.,  0.,  0.,  0.],\n",
       "       [ 0.,  0.,  0.,  0.,  0.,  0.,  0.,  0., 23.,  0.,  0.,  0.,  0.,\n",
       "         0.,  0.,  0.,  0.,  0.,  0.,  0.,  0.,  0.,  0.],\n",
       "       [ 0.,  0.,  0.,  0.,  0.,  0.,  0.,  0.,  0., 23.,  0.,  0.,  0.,\n",
       "         0.,  0.,  0.,  0.,  0.,  0.,  0.,  0.,  0.,  0.],\n",
       "       [ 0.,  0.,  0.,  0.,  0.,  0.,  0.,  0.,  0.,  0., 23.,  0.,  0.,\n",
       "         0.,  0.,  0.,  0.,  0.,  0.,  0.,  0.,  0.,  0.],\n",
       "       [ 0.,  0.,  0.,  0.,  0.,  0.,  0.,  0.,  0.,  0.,  0., 23.,  0.,\n",
       "         0.,  0.,  0.,  0.,  0.,  0.,  0.,  0.,  0.,  0.],\n",
       "       [ 0.,  0.,  0.,  0.,  0.,  0.,  0.,  0.,  0.,  0.,  0.,  0., 23.,\n",
       "         0.,  0.,  0.,  0.,  0.,  0.,  0.,  0.,  0.,  0.],\n",
       "       [ 0.,  0.,  0.,  0.,  0.,  0.,  0.,  0.,  0.,  0.,  0.,  0.,  0.,\n",
       "        23.,  0.,  0.,  0.,  0.,  0.,  0.,  0.,  0.,  0.],\n",
       "       [ 0.,  0.,  0.,  0.,  0.,  0.,  0.,  0.,  0.,  0.,  0.,  0.,  0.,\n",
       "         0., 23.,  0.,  0.,  0.,  0.,  0.,  0.,  0.,  0.],\n",
       "       [ 0.,  0.,  0.,  0.,  0.,  0.,  0.,  0.,  0.,  0.,  0.,  0.,  0.,\n",
       "         0.,  0., 23.,  0.,  0.,  0.,  0.,  0.,  0.,  0.],\n",
       "       [ 0.,  0.,  0.,  0.,  0.,  0.,  0.,  0.,  0.,  0.,  0.,  0.,  0.,\n",
       "         0.,  0.,  0., 23.,  0.,  0.,  0.,  0.,  0.,  0.],\n",
       "       [ 0.,  0.,  0.,  0.,  0.,  0.,  0.,  0.,  0.,  0.,  0.,  0.,  0.,\n",
       "         0.,  0.,  0.,  0., 23.,  0.,  0.,  0.,  0.,  0.],\n",
       "       [ 0.,  0.,  0.,  0.,  0.,  0.,  0.,  0.,  0.,  0.,  0.,  0.,  0.,\n",
       "         0.,  0.,  0.,  0.,  0., 23.,  0.,  0.,  0.,  0.],\n",
       "       [ 0.,  0.,  0.,  0.,  0.,  0.,  0.,  0.,  0.,  0.,  0.,  0.,  0.,\n",
       "         0.,  0.,  0.,  0.,  0.,  0., 23.,  0.,  0.,  0.],\n",
       "       [ 0.,  0.,  0.,  0.,  0.,  0.,  0.,  0.,  0.,  0.,  0.,  0.,  0.,\n",
       "         0.,  0.,  0.,  0.,  0.,  0.,  0., 23.,  0.,  0.],\n",
       "       [ 0.,  0.,  0.,  0.,  0.,  0.,  0.,  0.,  0.,  0.,  0.,  0.,  0.,\n",
       "         0.,  0.,  0.,  0.,  0.,  0.,  0.,  0., 23.,  0.],\n",
       "       [ 0.,  0.,  0.,  0.,  0.,  0.,  0.,  0.,  0.,  0.,  0.,  0.,  0.,\n",
       "         0.,  0.,  0.,  0.,  0.,  0.,  0.,  0.,  0., 23.]])"
      ]
     },
     "execution_count": 433,
     "metadata": {},
     "output_type": "execute_result"
    }
   ],
   "source": [
    "A*23"
   ]
  },
  {
   "cell_type": "code",
   "execution_count": 435,
   "id": "dfeea88e-10d1-4c0e-8fc2-42f97347b884",
   "metadata": {},
   "outputs": [
    {
     "data": {
      "text/plain": [
       "array([[8.9, 0. , 0. , 0. , 0. , 0. , 0. , 0. , 0. , 0. , 0. , 0. , 0. ,\n",
       "        0. , 0. , 0. , 0. , 0. , 0. , 0. , 0. , 0. , 0. ],\n",
       "       [0. , 8.9, 0. , 0. , 0. , 0. , 0. , 0. , 0. , 0. , 0. , 0. , 0. ,\n",
       "        0. , 0. , 0. , 0. , 0. , 0. , 0. , 0. , 0. , 0. ],\n",
       "       [0. , 0. , 8.9, 0. , 0. , 0. , 0. , 0. , 0. , 0. , 0. , 0. , 0. ,\n",
       "        0. , 0. , 0. , 0. , 0. , 0. , 0. , 0. , 0. , 0. ],\n",
       "       [0. , 0. , 0. , 8.9, 0. , 0. , 0. , 0. , 0. , 0. , 0. , 0. , 0. ,\n",
       "        0. , 0. , 0. , 0. , 0. , 0. , 0. , 0. , 0. , 0. ],\n",
       "       [0. , 0. , 0. , 0. , 8.9, 0. , 0. , 0. , 0. , 0. , 0. , 0. , 0. ,\n",
       "        0. , 0. , 0. , 0. , 0. , 0. , 0. , 0. , 0. , 0. ],\n",
       "       [0. , 0. , 0. , 0. , 0. , 8.9, 0. , 0. , 0. , 0. , 0. , 0. , 0. ,\n",
       "        0. , 0. , 0. , 0. , 0. , 0. , 0. , 0. , 0. , 0. ],\n",
       "       [0. , 0. , 0. , 0. , 0. , 0. , 8.9, 0. , 0. , 0. , 0. , 0. , 0. ,\n",
       "        0. , 0. , 0. , 0. , 0. , 0. , 0. , 0. , 0. , 0. ],\n",
       "       [0. , 0. , 0. , 0. , 0. , 0. , 0. , 8.9, 0. , 0. , 0. , 0. , 0. ,\n",
       "        0. , 0. , 0. , 0. , 0. , 0. , 0. , 0. , 0. , 0. ],\n",
       "       [0. , 0. , 0. , 0. , 0. , 0. , 0. , 0. , 8.9, 0. , 0. , 0. , 0. ,\n",
       "        0. , 0. , 0. , 0. , 0. , 0. , 0. , 0. , 0. , 0. ],\n",
       "       [0. , 0. , 0. , 0. , 0. , 0. , 0. , 0. , 0. , 8.9, 0. , 0. , 0. ,\n",
       "        0. , 0. , 0. , 0. , 0. , 0. , 0. , 0. , 0. , 0. ],\n",
       "       [0. , 0. , 0. , 0. , 0. , 0. , 0. , 0. , 0. , 0. , 8.9, 0. , 0. ,\n",
       "        0. , 0. , 0. , 0. , 0. , 0. , 0. , 0. , 0. , 0. ],\n",
       "       [0. , 0. , 0. , 0. , 0. , 0. , 0. , 0. , 0. , 0. , 0. , 8.9, 0. ,\n",
       "        0. , 0. , 0. , 0. , 0. , 0. , 0. , 0. , 0. , 0. ],\n",
       "       [0. , 0. , 0. , 0. , 0. , 0. , 0. , 0. , 0. , 0. , 0. , 0. , 8.9,\n",
       "        0. , 0. , 0. , 0. , 0. , 0. , 0. , 0. , 0. , 0. ],\n",
       "       [0. , 0. , 0. , 0. , 0. , 0. , 0. , 0. , 0. , 0. , 0. , 0. , 0. ,\n",
       "        8.9, 0. , 0. , 0. , 0. , 0. , 0. , 0. , 0. , 0. ],\n",
       "       [0. , 0. , 0. , 0. , 0. , 0. , 0. , 0. , 0. , 0. , 0. , 0. , 0. ,\n",
       "        0. , 8.9, 0. , 0. , 0. , 0. , 0. , 0. , 0. , 0. ],\n",
       "       [0. , 0. , 0. , 0. , 0. , 0. , 0. , 0. , 0. , 0. , 0. , 0. , 0. ,\n",
       "        0. , 0. , 8.9, 0. , 0. , 0. , 0. , 0. , 0. , 0. ],\n",
       "       [0. , 0. , 0. , 0. , 0. , 0. , 0. , 0. , 0. , 0. , 0. , 0. , 0. ,\n",
       "        0. , 0. , 0. , 8.9, 0. , 0. , 0. , 0. , 0. , 0. ],\n",
       "       [0. , 0. , 0. , 0. , 0. , 0. , 0. , 0. , 0. , 0. , 0. , 0. , 0. ,\n",
       "        0. , 0. , 0. , 0. , 8.9, 0. , 0. , 0. , 0. , 0. ],\n",
       "       [0. , 0. , 0. , 0. , 0. , 0. , 0. , 0. , 0. , 0. , 0. , 0. , 0. ,\n",
       "        0. , 0. , 0. , 0. , 0. , 8.9, 0. , 0. , 0. , 0. ],\n",
       "       [0. , 0. , 0. , 0. , 0. , 0. , 0. , 0. , 0. , 0. , 0. , 0. , 0. ,\n",
       "        0. , 0. , 0. , 0. , 0. , 0. , 8.9, 0. , 0. , 0. ],\n",
       "       [0. , 0. , 0. , 0. , 0. , 0. , 0. , 0. , 0. , 0. , 0. , 0. , 0. ,\n",
       "        0. , 0. , 0. , 0. , 0. , 0. , 0. , 8.9, 0. , 0. ],\n",
       "       [0. , 0. , 0. , 0. , 0. , 0. , 0. , 0. , 0. , 0. , 0. , 0. , 0. ,\n",
       "        0. , 0. , 0. , 0. , 0. , 0. , 0. , 0. , 8.9, 0. ],\n",
       "       [0. , 0. , 0. , 0. , 0. , 0. , 0. , 0. , 0. , 0. , 0. , 0. , 0. ,\n",
       "        0. , 0. , 0. , 0. , 0. , 0. , 0. , 0. , 0. , 8.9]])"
      ]
     },
     "execution_count": 435,
     "metadata": {},
     "output_type": "execute_result"
    }
   ],
   "source": [
    "A*8.9"
   ]
  },
  {
   "cell_type": "markdown",
   "id": "7efc9423-63df-448f-9c09-811fb1f9bed6",
   "metadata": {},
   "source": [
    "# Zeros like Ones like Full like Arrays"
   ]
  },
  {
   "cell_type": "code",
   "execution_count": 438,
   "id": "50c51101-5fdc-43a3-85bf-3f08abaa0865",
   "metadata": {},
   "outputs": [],
   "source": [
    "import numpy as np"
   ]
  },
  {
   "cell_type": "code",
   "execution_count": 440,
   "id": "ac7406aa-09ad-422e-bba7-d1e5b786e1ea",
   "metadata": {},
   "outputs": [],
   "source": [
    "from numpy import random"
   ]
  },
  {
   "cell_type": "code",
   "execution_count": 442,
   "id": "1359877e-10d9-47e1-a010-1dc422bdc110",
   "metadata": {},
   "outputs": [
    {
     "data": {
      "text/plain": [
       "array([21, 34, 56])"
      ]
     },
     "execution_count": 442,
     "metadata": {},
     "output_type": "execute_result"
    }
   ],
   "source": [
    "A=np.array([21,34,56])\n",
    "A"
   ]
  },
  {
   "cell_type": "code",
   "execution_count": 444,
   "id": "17ce465a-0e3b-47af-a8ec-47b7fd51fbb0",
   "metadata": {},
   "outputs": [
    {
     "data": {
      "text/plain": [
       "array([1, 1, 1])"
      ]
     },
     "execution_count": 444,
     "metadata": {},
     "output_type": "execute_result"
    }
   ],
   "source": [
    "B=np.ones_like(A)\n",
    "B"
   ]
  },
  {
   "cell_type": "code",
   "execution_count": 448,
   "id": "ecd8df4c-f377-4ceb-aa8e-934998fd5a19",
   "metadata": {},
   "outputs": [
    {
     "data": {
      "text/plain": [
       "array([[0.26294042, 0.42028676, 0.67477529, 0.01675747, 0.35622684],\n",
       "       [0.7821213 , 0.17179522, 0.41994632, 0.91915037, 0.53581818],\n",
       "       [0.2290344 , 0.29717224, 0.86795723, 0.54565697, 0.37798489]])"
      ]
     },
     "execution_count": 448,
     "metadata": {},
     "output_type": "execute_result"
    }
   ],
   "source": [
    "C=np.random.random((3,5))\n",
    "C"
   ]
  },
  {
   "cell_type": "code",
   "execution_count": 450,
   "id": "ae596af4-b2ac-4252-b45b-192a9bc93902",
   "metadata": {},
   "outputs": [
    {
     "data": {
      "text/plain": [
       "array([[1., 1., 1., 1., 1.],\n",
       "       [1., 1., 1., 1., 1.],\n",
       "       [1., 1., 1., 1., 1.]])"
      ]
     },
     "execution_count": 450,
     "metadata": {},
     "output_type": "execute_result"
    }
   ],
   "source": [
    "D=np.ones_like((C))\n",
    "D"
   ]
  },
  {
   "cell_type": "code",
   "execution_count": 452,
   "id": "7c0145df-4cac-4b6d-a05a-ce4c22cd3114",
   "metadata": {},
   "outputs": [
    {
     "data": {
      "text/plain": [
       "array([[1, 1, 1, 1, 1],\n",
       "       [1, 1, 1, 1, 1],\n",
       "       [1, 1, 1, 1, 1]])"
      ]
     },
     "execution_count": 452,
     "metadata": {},
     "output_type": "execute_result"
    }
   ],
   "source": [
    "D=np.ones_like(C,dtype=int)\n",
    "D"
   ]
  },
  {
   "cell_type": "code",
   "execution_count": 454,
   "id": "7f3be525-cfa1-4e9e-a103-900259ad5a71",
   "metadata": {},
   "outputs": [
    {
     "data": {
      "text/plain": [
       "array([21, 34, 56])"
      ]
     },
     "execution_count": 454,
     "metadata": {},
     "output_type": "execute_result"
    }
   ],
   "source": [
    "A"
   ]
  },
  {
   "cell_type": "code",
   "execution_count": 456,
   "id": "f1e73473-f3ad-4e2d-a044-1d4c463e19b8",
   "metadata": {},
   "outputs": [
    {
     "data": {
      "text/plain": [
       "array([0, 0, 0])"
      ]
     },
     "execution_count": 456,
     "metadata": {},
     "output_type": "execute_result"
    }
   ],
   "source": [
    "B=np.zeros_like(A)\n",
    "B"
   ]
  },
  {
   "cell_type": "code",
   "execution_count": 460,
   "id": "566daa1c-5f53-4ff6-ac34-370cd70d3708",
   "metadata": {},
   "outputs": [
    {
     "data": {
      "text/plain": [
       "array([[ 0.64653506, -0.63659567, -0.80055581, -0.16844438, -0.32496626],\n",
       "       [ 0.85388509, -0.89085054, -0.79776767, -0.36765689,  0.15343049]])"
      ]
     },
     "execution_count": 460,
     "metadata": {},
     "output_type": "execute_result"
    }
   ],
   "source": [
    "A=np.random.randn(2,5)\n",
    "A"
   ]
  },
  {
   "cell_type": "code",
   "execution_count": 462,
   "id": "9ed8d8bb-5942-4498-9f7a-ae53f16ba37a",
   "metadata": {},
   "outputs": [
    {
     "data": {
      "text/plain": [
       "array([0, 0, 0])"
      ]
     },
     "execution_count": 462,
     "metadata": {},
     "output_type": "execute_result"
    }
   ],
   "source": [
    "A=np.zeros_like(B)\n",
    "A"
   ]
  },
  {
   "cell_type": "code",
   "execution_count": 464,
   "id": "2d62b5b2-6d9d-4323-aead-5daf704d8394",
   "metadata": {},
   "outputs": [
    {
     "data": {
      "text/plain": [
       "array([[0, 0, 0, 0, 0],\n",
       "       [0, 0, 0, 0, 0],\n",
       "       [0, 0, 0, 0, 0]])"
      ]
     },
     "execution_count": 464,
     "metadata": {},
     "output_type": "execute_result"
    }
   ],
   "source": [
    "A=np.zeros_like(C,dtype=int)\n",
    "A"
   ]
  },
  {
   "cell_type": "code",
   "execution_count": 466,
   "id": "d66322f1-ed01-4a7d-9e7f-8d4c7d8f2965",
   "metadata": {},
   "outputs": [
    {
     "data": {
      "text/plain": [
       "array([[0, 0, 0, 0, 0],\n",
       "       [0, 0, 0, 0, 0],\n",
       "       [0, 0, 0, 0, 0]])"
      ]
     },
     "execution_count": 466,
     "metadata": {},
     "output_type": "execute_result"
    }
   ],
   "source": [
    "A\n"
   ]
  },
  {
   "cell_type": "code",
   "execution_count": 468,
   "id": "323a6194-0d3b-4f9b-a5a8-a53dc79eb185",
   "metadata": {},
   "outputs": [
    {
     "data": {
      "text/plain": [
       "array([[6, 6, 6, 6, 6],\n",
       "       [6, 6, 6, 6, 6],\n",
       "       [6, 6, 6, 6, 6]])"
      ]
     },
     "execution_count": 468,
     "metadata": {},
     "output_type": "execute_result"
    }
   ],
   "source": [
    "B=np.full_like(A,6)\n",
    "B"
   ]
  },
  {
   "cell_type": "code",
   "execution_count": 470,
   "id": "c66a49e1-98ab-4bb2-bdc3-04c7c9281ff9",
   "metadata": {},
   "outputs": [
    {
     "data": {
      "text/plain": [
       "array([[[ 0.92645915, -0.86258925, -1.29263185,  0.46796194,\n",
       "         -0.61798019,  0.08857495, -1.00487752],\n",
       "        [-1.3127771 ,  0.34085766, -1.1485639 ,  0.48976108,\n",
       "          0.83156959, -0.95407167,  0.46445145],\n",
       "        [ 0.68414008,  0.30156658,  1.06720062,  0.7162328 ,\n",
       "          0.64374761,  1.56421949, -2.36327223],\n",
       "        [ 1.27858331, -0.32894779,  1.06973407,  0.55794218,\n",
       "          1.05106277,  0.43123433, -0.66597614],\n",
       "        [-1.14449026, -0.24903118,  0.12381912, -2.24499993,\n",
       "         -0.58588998, -0.81844811, -1.55299251]],\n",
       "\n",
       "       [[-2.75309803, -1.21080059,  1.26759013, -1.57903395,\n",
       "         -0.26717357, -2.3613819 ,  0.03626646],\n",
       "        [-0.51193651,  1.45928901, -0.09273353,  0.09950586,\n",
       "          1.72004668,  0.36717829, -0.09879923],\n",
       "        [ 0.98493791, -0.25972309, -0.49466537,  0.4451837 ,\n",
       "         -0.21738862, -0.31991629, -1.41084037],\n",
       "        [ 0.12986677,  1.7069437 , -1.24035949,  1.01286047,\n",
       "         -0.52509871,  0.78504129, -2.06141489],\n",
       "        [ 1.39036591,  0.68578735, -0.28106367,  1.11795248,\n",
       "         -0.45968649, -0.53366553,  1.01065792]]])"
      ]
     },
     "execution_count": 470,
     "metadata": {},
     "output_type": "execute_result"
    }
   ],
   "source": [
    "B=random.randn(2,5,7)\n",
    "B"
   ]
  },
  {
   "cell_type": "code",
   "execution_count": 472,
   "id": "49da9022-92d9-41b8-86ac-841108f5592b",
   "metadata": {},
   "outputs": [
    {
     "data": {
      "text/plain": [
       "array([[34, 34, 34, 34, 34],\n",
       "       [34, 34, 34, 34, 34],\n",
       "       [34, 34, 34, 34, 34]])"
      ]
     },
     "execution_count": 472,
     "metadata": {},
     "output_type": "execute_result"
    }
   ],
   "source": [
    "B=np.full_like(A,34)\n",
    "B"
   ]
  },
  {
   "cell_type": "code",
   "execution_count": 474,
   "id": "300ad82d-8a23-49f0-8b18-8d6967125490",
   "metadata": {},
   "outputs": [
    {
     "data": {
      "text/plain": [
       "array([[-89, -89, -89, -89, -89],\n",
       "       [-89, -89, -89, -89, -89],\n",
       "       [-89, -89, -89, -89, -89]])"
      ]
     },
     "execution_count": 474,
     "metadata": {},
     "output_type": "execute_result"
    }
   ],
   "source": [
    "A=np.full_like(B,-89,int)\n",
    "A"
   ]
  },
  {
   "cell_type": "markdown",
   "id": "6cfda54d-3423-4606-97b6-eee78276b5fe",
   "metadata": {},
   "source": [
    "# Diagonal Array Functions"
   ]
  },
  {
   "cell_type": "code",
   "execution_count": 479,
   "id": "211c2355-725f-461a-b915-d296dbef0b83",
   "metadata": {},
   "outputs": [
    {
     "data": {
      "text/plain": [
       "array([[1, 2, 3],\n",
       "       [4, 5, 6],\n",
       "       [7, 8, 9]])"
      ]
     },
     "execution_count": 479,
     "metadata": {},
     "output_type": "execute_result"
    }
   ],
   "source": [
    "A=np.array([[1,2,3],[4,5,6],[7,8,9]])\n",
    "A"
   ]
  },
  {
   "cell_type": "code",
   "execution_count": 481,
   "id": "1ffbd5b0-e146-42db-b6b0-49645936caa3",
   "metadata": {},
   "outputs": [
    {
     "data": {
      "text/plain": [
       "2"
      ]
     },
     "execution_count": 481,
     "metadata": {},
     "output_type": "execute_result"
    }
   ],
   "source": [
    "A.ndim"
   ]
  },
  {
   "cell_type": "code",
   "execution_count": 483,
   "id": "a58233fe-160e-4f19-8f8d-6bac5cf581ee",
   "metadata": {},
   "outputs": [
    {
     "data": {
      "text/plain": [
       "array([1, 5, 9])"
      ]
     },
     "execution_count": 483,
     "metadata": {},
     "output_type": "execute_result"
    }
   ],
   "source": [
    "np.diag(A)"
   ]
  },
  {
   "cell_type": "code",
   "execution_count": 485,
   "id": "6555823d-2b23-4c6a-9da4-3c60c6558a5e",
   "metadata": {},
   "outputs": [
    {
     "data": {
      "text/plain": [
       "array([1, 2, 3, 4, 5, 6, 7, 8, 9])"
      ]
     },
     "execution_count": 485,
     "metadata": {},
     "output_type": "execute_result"
    }
   ],
   "source": [
    "H=np.array([1,2,3,4,5,6,7,8,9,])\n",
    "H"
   ]
  },
  {
   "cell_type": "code",
   "execution_count": 487,
   "id": "47d88b51-12b6-46bf-a894-536fbc126e2d",
   "metadata": {},
   "outputs": [
    {
     "data": {
      "text/plain": [
       "1"
      ]
     },
     "execution_count": 487,
     "metadata": {},
     "output_type": "execute_result"
    }
   ],
   "source": [
    "H.ndim"
   ]
  },
  {
   "cell_type": "code",
   "execution_count": 489,
   "id": "f560f7fd-890d-4a31-85a1-574d54c785c5",
   "metadata": {},
   "outputs": [
    {
     "data": {
      "text/plain": [
       "array([[1, 0, 0, 0, 0, 0, 0, 0, 0],\n",
       "       [0, 2, 0, 0, 0, 0, 0, 0, 0],\n",
       "       [0, 0, 3, 0, 0, 0, 0, 0, 0],\n",
       "       [0, 0, 0, 4, 0, 0, 0, 0, 0],\n",
       "       [0, 0, 0, 0, 5, 0, 0, 0, 0],\n",
       "       [0, 0, 0, 0, 0, 6, 0, 0, 0],\n",
       "       [0, 0, 0, 0, 0, 0, 7, 0, 0],\n",
       "       [0, 0, 0, 0, 0, 0, 0, 8, 0],\n",
       "       [0, 0, 0, 0, 0, 0, 0, 0, 9]])"
      ]
     },
     "execution_count": 489,
     "metadata": {},
     "output_type": "execute_result"
    }
   ],
   "source": [
    "np.diag(H)"
   ]
  },
  {
   "cell_type": "code",
   "execution_count": 491,
   "id": "c12f72d7-024a-43e5-8e2c-dd7f7ba279bd",
   "metadata": {},
   "outputs": [
    {
     "data": {
      "text/plain": [
       "array([[1, 2, 3],\n",
       "       [4, 5, 6],\n",
       "       [7, 8, 9]])"
      ]
     },
     "execution_count": 491,
     "metadata": {},
     "output_type": "execute_result"
    }
   ],
   "source": [
    "A=np.array([[1,2,3],[4,5,6],[7,8,9]])\n",
    "A"
   ]
  },
  {
   "cell_type": "code",
   "execution_count": 493,
   "id": "eb8bdfe0-b42c-479f-b0fd-34f345927cfb",
   "metadata": {},
   "outputs": [
    {
     "data": {
      "text/plain": [
       "array([1, 5, 9])"
      ]
     },
     "execution_count": 493,
     "metadata": {},
     "output_type": "execute_result"
    }
   ],
   "source": [
    "np.diag(A,k=0)"
   ]
  },
  {
   "cell_type": "code",
   "execution_count": 495,
   "id": "0a61dcbf-bc9f-4ba7-8961-61a545abe965",
   "metadata": {},
   "outputs": [
    {
     "data": {
      "text/plain": [
       "array([2, 6])"
      ]
     },
     "execution_count": 495,
     "metadata": {},
     "output_type": "execute_result"
    }
   ],
   "source": [
    "np.diag(A,k=1)"
   ]
  },
  {
   "cell_type": "code",
   "execution_count": 497,
   "id": "86e22135-86f8-437d-9196-720f2ac7e0ec",
   "metadata": {},
   "outputs": [
    {
     "data": {
      "text/plain": [
       "array([], dtype=int32)"
      ]
     },
     "execution_count": 497,
     "metadata": {},
     "output_type": "execute_result"
    }
   ],
   "source": [
    "np.diag(A,k=3)"
   ]
  },
  {
   "cell_type": "code",
   "execution_count": 505,
   "id": "8323fb64-ac59-430e-821f-95c926d162de",
   "metadata": {},
   "outputs": [
    {
     "data": {
      "text/plain": [
       "array([7])"
      ]
     },
     "execution_count": 505,
     "metadata": {},
     "output_type": "execute_result"
    }
   ],
   "source": [
    "np.diag(A,k=-2)"
   ]
  },
  {
   "cell_type": "code",
   "execution_count": 509,
   "id": "3cd48270-3982-4ea6-a108-55ac3535af24",
   "metadata": {},
   "outputs": [
    {
     "data": {
      "text/plain": [
       "array([[1, 0, 0, 0, 0, 0, 0, 0, 0],\n",
       "       [0, 2, 0, 0, 0, 0, 0, 0, 0],\n",
       "       [0, 0, 3, 0, 0, 0, 0, 0, 0],\n",
       "       [0, 0, 0, 4, 0, 0, 0, 0, 0],\n",
       "       [0, 0, 0, 0, 5, 0, 0, 0, 0],\n",
       "       [0, 0, 0, 0, 0, 6, 0, 0, 0],\n",
       "       [0, 0, 0, 0, 0, 0, 7, 0, 0],\n",
       "       [0, 0, 0, 0, 0, 0, 0, 8, 0],\n",
       "       [0, 0, 0, 0, 0, 0, 0, 0, 9]])"
      ]
     },
     "execution_count": 509,
     "metadata": {},
     "output_type": "execute_result"
    }
   ],
   "source": [
    "H=np.array([1,2,3,4,5,6,7,8,9,])\n",
    "np.diag(H,k=0)"
   ]
  },
  {
   "cell_type": "code",
   "execution_count": 511,
   "id": "b5e076f1-6a79-4657-97b4-04313cc0ff30",
   "metadata": {},
   "outputs": [
    {
     "data": {
      "text/plain": [
       "array([[0, 0, 1, 0, 0, 0, 0, 0, 0, 0, 0],\n",
       "       [0, 0, 0, 2, 0, 0, 0, 0, 0, 0, 0],\n",
       "       [0, 0, 0, 0, 3, 0, 0, 0, 0, 0, 0],\n",
       "       [0, 0, 0, 0, 0, 4, 0, 0, 0, 0, 0],\n",
       "       [0, 0, 0, 0, 0, 0, 5, 0, 0, 0, 0],\n",
       "       [0, 0, 0, 0, 0, 0, 0, 6, 0, 0, 0],\n",
       "       [0, 0, 0, 0, 0, 0, 0, 0, 7, 0, 0],\n",
       "       [0, 0, 0, 0, 0, 0, 0, 0, 0, 8, 0],\n",
       "       [0, 0, 0, 0, 0, 0, 0, 0, 0, 0, 9],\n",
       "       [0, 0, 0, 0, 0, 0, 0, 0, 0, 0, 0],\n",
       "       [0, 0, 0, 0, 0, 0, 0, 0, 0, 0, 0]])"
      ]
     },
     "execution_count": 511,
     "metadata": {},
     "output_type": "execute_result"
    }
   ],
   "source": [
    "np.diag(H,k=2)"
   ]
  },
  {
   "cell_type": "markdown",
   "id": "e9a8b9ac-8a49-4869-829b-6195d85a2b7f",
   "metadata": {},
   "source": [
    "# Transpose function"
   ]
  },
  {
   "cell_type": "code",
   "execution_count": 516,
   "id": "ed85e182-232c-43e2-9f90-08f697b84ca4",
   "metadata": {},
   "outputs": [
    {
     "data": {
      "text/plain": [
       "array([[1, 2, 3],\n",
       "       [4, 5, 6]])"
      ]
     },
     "execution_count": 516,
     "metadata": {},
     "output_type": "execute_result"
    }
   ],
   "source": [
    "A=np.array([[1,2,3],[4,5,6]])\n",
    "A"
   ]
  },
  {
   "cell_type": "code",
   "execution_count": 518,
   "id": "f08e8553-baf7-42c7-a72f-1a7150f71f23",
   "metadata": {},
   "outputs": [
    {
     "data": {
      "text/plain": [
       "array([[1, 4],\n",
       "       [2, 5],\n",
       "       [3, 6]])"
      ]
     },
     "execution_count": 518,
     "metadata": {},
     "output_type": "execute_result"
    }
   ],
   "source": [
    "A.T"
   ]
  },
  {
   "cell_type": "code",
   "execution_count": 520,
   "id": "2e91541a-eb91-4de4-80e9-89aff3b90aec",
   "metadata": {},
   "outputs": [
    {
     "data": {
      "text/plain": [
       "(2, 3)"
      ]
     },
     "execution_count": 520,
     "metadata": {},
     "output_type": "execute_result"
    }
   ],
   "source": [
    "A.shape"
   ]
  },
  {
   "cell_type": "code",
   "execution_count": 524,
   "id": "5a5f51a8-ace5-4b34-812d-4e0bf66a109f",
   "metadata": {},
   "outputs": [
    {
     "data": {
      "text/plain": [
       "(3, 2)"
      ]
     },
     "execution_count": 524,
     "metadata": {},
     "output_type": "execute_result"
    }
   ],
   "source": [
    "A.T.shape"
   ]
  },
  {
   "cell_type": "code",
   "execution_count": 526,
   "id": "70eafbab-b3c5-4d7e-ba5d-c7db2249dc94",
   "metadata": {},
   "outputs": [
    {
     "data": {
      "text/plain": [
       "array([[1, 4],\n",
       "       [2, 5],\n",
       "       [3, 6]])"
      ]
     },
     "execution_count": 526,
     "metadata": {},
     "output_type": "execute_result"
    }
   ],
   "source": [
    "np.transpose(A)"
   ]
  },
  {
   "cell_type": "code",
   "execution_count": 528,
   "id": "e9c153c0-0f1e-4cb8-8454-6b68339900f6",
   "metadata": {},
   "outputs": [
    {
     "data": {
      "text/plain": [
       "array([11, 12, 34, 45, 56])"
      ]
     },
     "execution_count": 528,
     "metadata": {},
     "output_type": "execute_result"
    }
   ],
   "source": [
    "I=np.array ([11,12,34,45,56])\n",
    "I\n",
    "\n",
    "I.T"
   ]
  },
  {
   "cell_type": "code",
   "execution_count": 530,
   "id": "225b5e39-01db-4cbc-9899-cc57b6cf6d25",
   "metadata": {},
   "outputs": [
    {
     "data": {
      "text/plain": [
       "array([[[1, 2, 3],\n",
       "        [4, 5, 6],\n",
       "        [7, 8, 9]]])"
      ]
     },
     "execution_count": 530,
     "metadata": {},
     "output_type": "execute_result"
    }
   ],
   "source": [
    "A=np.array([[[1,2,3],[4,5,6],[7,8,9]]])\n",
    "A"
   ]
  },
  {
   "cell_type": "code",
   "execution_count": 532,
   "id": "d86657f9-2119-43a4-b73b-2900ac010f7f",
   "metadata": {},
   "outputs": [
    {
     "data": {
      "text/plain": [
       "array([[[1],\n",
       "        [4],\n",
       "        [7]],\n",
       "\n",
       "       [[2],\n",
       "        [5],\n",
       "        [8]],\n",
       "\n",
       "       [[3],\n",
       "        [6],\n",
       "        [9]]])"
      ]
     },
     "execution_count": 532,
     "metadata": {},
     "output_type": "execute_result"
    }
   ],
   "source": [
    "A.T"
   ]
  },
  {
   "cell_type": "code",
   "execution_count": 534,
   "id": "11de414e-6987-4e17-adf2-f6c039fb8de7",
   "metadata": {},
   "outputs": [
    {
     "data": {
      "text/plain": [
       "(1, 3, 3)"
      ]
     },
     "execution_count": 534,
     "metadata": {},
     "output_type": "execute_result"
    }
   ],
   "source": [
    "A.shape"
   ]
  },
  {
   "cell_type": "code",
   "execution_count": 536,
   "id": "3a0f8ce0-2489-40d3-a916-44726b545430",
   "metadata": {},
   "outputs": [
    {
     "data": {
      "text/plain": [
       "(3, 3, 1)"
      ]
     },
     "execution_count": 536,
     "metadata": {},
     "output_type": "execute_result"
    }
   ],
   "source": [
    "A.T.shape"
   ]
  },
  {
   "cell_type": "markdown",
   "id": "052fba83-2866-460f-a5ff-04b0b0046e43",
   "metadata": {},
   "source": [
    "# Unary Operations"
   ]
  },
  {
   "cell_type": "code",
   "execution_count": 539,
   "id": "93b1b53c-107b-45ee-842d-1cd658e987b8",
   "metadata": {},
   "outputs": [
    {
     "data": {
      "text/plain": [
       "array([ 1, 34, 56, 78])"
      ]
     },
     "execution_count": 539,
     "metadata": {},
     "output_type": "execute_result"
    }
   ],
   "source": [
    "A=np.array([1,34,56,78])\n",
    "A\n"
   ]
  },
  {
   "cell_type": "code",
   "execution_count": 541,
   "id": "f0478c34-d697-4d30-968e-4cd32f917a08",
   "metadata": {},
   "outputs": [
    {
     "data": {
      "text/plain": [
       "169"
      ]
     },
     "execution_count": 541,
     "metadata": {},
     "output_type": "execute_result"
    }
   ],
   "source": [
    "A.max()\n",
    "A.min()\n",
    "A.sum()\n"
   ]
  },
  {
   "cell_type": "code",
   "execution_count": 543,
   "id": "45e9c7c7-b28b-4618-a9f6-f47cc2ef0792",
   "metadata": {},
   "outputs": [
    {
     "data": {
      "text/plain": [
       "array([[ 1, 23, 45],\n",
       "       [56,  3,  4]])"
      ]
     },
     "execution_count": 543,
     "metadata": {},
     "output_type": "execute_result"
    }
   ],
   "source": [
    "E=np.array([[1,23,45],[56,3,4]])\n",
    "E"
   ]
  },
  {
   "cell_type": "code",
   "execution_count": 545,
   "id": "f9e255fe-6d8c-4035-8969-b35f727da411",
   "metadata": {},
   "outputs": [
    {
     "data": {
      "text/plain": [
       "56"
      ]
     },
     "execution_count": 545,
     "metadata": {},
     "output_type": "execute_result"
    }
   ],
   "source": [
    "E.max()"
   ]
  },
  {
   "cell_type": "code",
   "execution_count": 547,
   "id": "8de03392-6ba6-47f7-af83-bc92b41c85c0",
   "metadata": {},
   "outputs": [
    {
     "data": {
      "text/plain": [
       "1"
      ]
     },
     "execution_count": 547,
     "metadata": {},
     "output_type": "execute_result"
    }
   ],
   "source": [
    "E.min()"
   ]
  },
  {
   "cell_type": "code",
   "execution_count": 549,
   "id": "4048823d-775f-451b-adf0-f8a1c7557a24",
   "metadata": {},
   "outputs": [
    {
     "data": {
      "text/plain": [
       "132"
      ]
     },
     "execution_count": 549,
     "metadata": {},
     "output_type": "execute_result"
    }
   ],
   "source": [
    "E.sum()"
   ]
  },
  {
   "cell_type": "code",
   "execution_count": 551,
   "id": "6390444f-47da-40ae-8729-e448913dd1eb",
   "metadata": {},
   "outputs": [
    {
     "data": {
      "text/plain": [
       "array([45, 56])"
      ]
     },
     "execution_count": 551,
     "metadata": {},
     "output_type": "execute_result"
    }
   ],
   "source": [
    "E.max(axis=1)"
   ]
  },
  {
   "cell_type": "code",
   "execution_count": 555,
   "id": "d4403389-d80c-4ca9-94da-86ea16026636",
   "metadata": {},
   "outputs": [
    {
     "data": {
      "text/plain": [
       "array([56, 23, 45])"
      ]
     },
     "execution_count": 555,
     "metadata": {},
     "output_type": "execute_result"
    }
   ],
   "source": [
    "E.max(axis=0)"
   ]
  },
  {
   "cell_type": "code",
   "execution_count": 557,
   "id": "4147f941-7add-4a91-9e2c-e63c20d52bcb",
   "metadata": {},
   "outputs": [
    {
     "data": {
      "text/plain": [
       "array([69, 63])"
      ]
     },
     "execution_count": 557,
     "metadata": {},
     "output_type": "execute_result"
    }
   ],
   "source": [
    "\n",
    "E.sum(axis=1)"
   ]
  },
  {
   "cell_type": "code",
   "execution_count": 559,
   "id": "3cad4fb9-8b2f-408b-9879-03bcb84268b0",
   "metadata": {},
   "outputs": [
    {
     "data": {
      "text/plain": [
       "array([57, 26, 49])"
      ]
     },
     "execution_count": 559,
     "metadata": {},
     "output_type": "execute_result"
    }
   ],
   "source": [
    "E.sum(axis=0)"
   ]
  },
  {
   "cell_type": "code",
   "execution_count": 567,
   "id": "c48b20ee-219a-44a9-9fdc-c15fc34595dc",
   "metadata": {},
   "outputs": [
    {
     "data": {
      "text/plain": [
       "array([[[ 0,  1,  2],\n",
       "        [ 3,  4,  5],\n",
       "        [ 6,  7,  8]],\n",
       "\n",
       "       [[ 9, 10, 11],\n",
       "        [12, 13, 14],\n",
       "        [15, 16, 17]]])"
      ]
     },
     "execution_count": 567,
     "metadata": {},
     "output_type": "execute_result"
    }
   ],
   "source": [
    "Y=np.arange(18).reshape(2,3,3)\n",
    "Y"
   ]
  },
  {
   "cell_type": "code",
   "execution_count": 569,
   "id": "628c8816-6f96-4e24-9918-727c201b19d1",
   "metadata": {},
   "outputs": [
    {
     "data": {
      "text/plain": [
       "17"
      ]
     },
     "execution_count": 569,
     "metadata": {},
     "output_type": "execute_result"
    }
   ],
   "source": [
    "Y.max()"
   ]
  },
  {
   "cell_type": "code",
   "execution_count": 571,
   "id": "f8909bc5-58cb-47fe-9bd1-9b45e191ccae",
   "metadata": {},
   "outputs": [
    {
     "data": {
      "text/plain": [
       "0"
      ]
     },
     "execution_count": 571,
     "metadata": {},
     "output_type": "execute_result"
    }
   ],
   "source": [
    "Y.min()"
   ]
  },
  {
   "cell_type": "code",
   "execution_count": 573,
   "id": "c4706927-ddb3-421c-a8b0-37b7081416c6",
   "metadata": {},
   "outputs": [
    {
     "data": {
      "text/plain": [
       "array([[ 6,  7,  8],\n",
       "       [15, 16, 17]])"
      ]
     },
     "execution_count": 573,
     "metadata": {},
     "output_type": "execute_result"
    }
   ],
   "source": [
    "Y.max(axis=1)"
   ]
  },
  {
   "cell_type": "code",
   "execution_count": 575,
   "id": "452baeca-1c55-4700-9acb-8bae1eea9c37",
   "metadata": {},
   "outputs": [
    {
     "data": {
      "text/plain": [
       "array([[0, 1, 2],\n",
       "       [3, 4, 5],\n",
       "       [6, 7, 8]])"
      ]
     },
     "execution_count": 575,
     "metadata": {},
     "output_type": "execute_result"
    }
   ],
   "source": [
    "Y.min(axis=0)"
   ]
  },
  {
   "cell_type": "code",
   "execution_count": 577,
   "id": "a0c52b66-102c-48bb-bf30-9e06cbdcd63e",
   "metadata": {},
   "outputs": [
    {
     "data": {
      "text/plain": [
       "array([[ 0,  1,  2],\n",
       "       [ 9, 10, 11]])"
      ]
     },
     "execution_count": 577,
     "metadata": {},
     "output_type": "execute_result"
    }
   ],
   "source": [
    "Y.min(axis=1)"
   ]
  },
  {
   "cell_type": "code",
   "execution_count": 579,
   "id": "ba633317-f3cc-4016-8195-daa53bfe814c",
   "metadata": {},
   "outputs": [
    {
     "data": {
      "text/plain": [
       "153"
      ]
     },
     "execution_count": 579,
     "metadata": {},
     "output_type": "execute_result"
    }
   ],
   "source": [
    "Y.sum()"
   ]
  },
  {
   "cell_type": "code",
   "execution_count": 581,
   "id": "911aec76-9c85-421f-a9dd-1f61ee0c89dc",
   "metadata": {},
   "outputs": [
    {
     "data": {
      "text/plain": [
       "array([[ 9, 11, 13],\n",
       "       [15, 17, 19],\n",
       "       [21, 23, 25]])"
      ]
     },
     "execution_count": 581,
     "metadata": {},
     "output_type": "execute_result"
    }
   ],
   "source": [
    "Y.sum(axis=0)"
   ]
  },
  {
   "cell_type": "code",
   "execution_count": 583,
   "id": "87917e9a-18cb-44d2-832c-03a14c6dbaac",
   "metadata": {},
   "outputs": [
    {
     "data": {
      "text/plain": [
       "array([[ 9, 12, 15],\n",
       "       [36, 39, 42]])"
      ]
     },
     "execution_count": 583,
     "metadata": {},
     "output_type": "execute_result"
    }
   ],
   "source": [
    "Y.sum(axis=1)"
   ]
  },
  {
   "cell_type": "markdown",
   "id": "578241da-30a8-479a-8e07-d4b40ecfde6e",
   "metadata": {},
   "source": [
    "# V stack  and H stack"
   ]
  },
  {
   "cell_type": "code",
   "execution_count": 588,
   "id": "c52ec6ef-4f84-4be4-82d8-2194866bddb7",
   "metadata": {},
   "outputs": [
    {
     "data": {
      "text/plain": [
       "array([[3],\n",
       "       [3]])"
      ]
     },
     "execution_count": 588,
     "metadata": {},
     "output_type": "execute_result"
    }
   ],
   "source": [
    "A=np.array(3)\n",
    "B=np.array(3)\n",
    "\n",
    "np.vstack((A,B))"
   ]
  },
  {
   "cell_type": "code",
   "execution_count": 592,
   "id": "103b200e-db82-4cae-95ef-0ad4001abdbc",
   "metadata": {},
   "outputs": [
    {
     "data": {
      "text/plain": [
       "array([3, 3])"
      ]
     },
     "execution_count": 592,
     "metadata": {},
     "output_type": "execute_result"
    }
   ],
   "source": [
    "\n",
    "np.hstack((A,B))"
   ]
  },
  {
   "cell_type": "code",
   "execution_count": 594,
   "id": "07326910-bbe2-46ca-8ecb-91ed4c827f1b",
   "metadata": {},
   "outputs": [
    {
     "data": {
      "text/plain": [
       "array([[ 1, 23, 45],\n",
       "       [56,  3,  4]])"
      ]
     },
     "execution_count": 594,
     "metadata": {},
     "output_type": "execute_result"
    }
   ],
   "source": [
    "E=np.array([[1,23,45],[56,3,4]])\n",
    "E"
   ]
  },
  {
   "cell_type": "code",
   "execution_count": 596,
   "id": "139b0d07-8a28-4b98-b7df-8692d2ea1350",
   "metadata": {},
   "outputs": [
    {
     "data": {
      "text/plain": [
       "array([[11,  3, 55],\n",
       "       [ 5, 38, 74]])"
      ]
     },
     "execution_count": 596,
     "metadata": {},
     "output_type": "execute_result"
    }
   ],
   "source": [
    "F=np.array([[11,3,55],[5,38,74]])\n",
    "F"
   ]
  },
  {
   "cell_type": "code",
   "execution_count": 600,
   "id": "3e7f154a-abcd-4e10-a7a1-74702f6072c3",
   "metadata": {},
   "outputs": [
    {
     "data": {
      "text/plain": [
       "array([[ 1, 23, 45],\n",
       "       [56,  3,  4],\n",
       "       [11,  3, 55],\n",
       "       [ 5, 38, 74]])"
      ]
     },
     "execution_count": 600,
     "metadata": {},
     "output_type": "execute_result"
    }
   ],
   "source": [
    "V2=np.vstack((E,F))\n",
    "V2"
   ]
  },
  {
   "cell_type": "code",
   "execution_count": 602,
   "id": "e0ad5305-2672-4eb7-afba-99c46b0adb8b",
   "metadata": {},
   "outputs": [
    {
     "data": {
      "text/plain": [
       "array([[ 1, 23, 45, 11,  3, 55],\n",
       "       [56,  3,  4,  5, 38, 74]])"
      ]
     },
     "execution_count": 602,
     "metadata": {},
     "output_type": "execute_result"
    }
   ],
   "source": [
    "H2=np.hstack((E,F))\n",
    "H2"
   ]
  },
  {
   "cell_type": "markdown",
   "id": "f0584d29-cfcb-4844-8a89-220967959227",
   "metadata": {},
   "source": [
    "# Array indexing"
   ]
  },
  {
   "cell_type": "code",
   "execution_count": 607,
   "id": "3eb9f59e-fc80-401b-88d5-f7bcc1151d98",
   "metadata": {},
   "outputs": [
    {
     "data": {
      "text/plain": [
       "array([ 1,  2,  3,  4,  5,  6,  7,  8,  9, 10])"
      ]
     },
     "execution_count": 607,
     "metadata": {},
     "output_type": "execute_result"
    }
   ],
   "source": [
    "A=np.array([1,2,3,4,5,6,7,8,9,10])\n",
    "A"
   ]
  },
  {
   "cell_type": "code",
   "execution_count": 609,
   "id": "3cb96417-02e0-4b28-90bc-499975b2784e",
   "metadata": {},
   "outputs": [
    {
     "data": {
      "text/plain": [
       "1"
      ]
     },
     "execution_count": 609,
     "metadata": {},
     "output_type": "execute_result"
    }
   ],
   "source": [
    "A[0]"
   ]
  },
  {
   "cell_type": "code",
   "execution_count": 611,
   "id": "fb702ea3-8703-4430-81f2-8e75cdfae0f1",
   "metadata": {},
   "outputs": [
    {
     "data": {
      "text/plain": [
       "array([2, 3, 4, 5, 6])"
      ]
     },
     "execution_count": 611,
     "metadata": {},
     "output_type": "execute_result"
    }
   ],
   "source": [
    "A[1:6]"
   ]
  },
  {
   "cell_type": "code",
   "execution_count": 613,
   "id": "f44bd908-2ca0-4cb7-81ba-0afe905d4a83",
   "metadata": {},
   "outputs": [
    {
     "data": {
      "text/plain": [
       "array([ 1,  2,  3,  4,  5,  6,  7,  8,  9, 10])"
      ]
     },
     "execution_count": 613,
     "metadata": {},
     "output_type": "execute_result"
    }
   ],
   "source": [
    "A[:]"
   ]
  },
  {
   "cell_type": "code",
   "execution_count": 615,
   "id": "f88658ec-9691-470b-9988-0f163fecd1c5",
   "metadata": {},
   "outputs": [
    {
     "data": {
      "text/plain": [
       "array([ 1,  2,  3,  4,  5,  6,  7,  8,  9, 10])"
      ]
     },
     "execution_count": 615,
     "metadata": {},
     "output_type": "execute_result"
    }
   ],
   "source": [
    "A[0:]"
   ]
  },
  {
   "cell_type": "code",
   "execution_count": 617,
   "id": "d7d2b76d-709a-4979-b55a-2d2957dd5ddd",
   "metadata": {},
   "outputs": [
    {
     "data": {
      "text/plain": [
       "array([ 4,  5,  6,  7,  8,  9, 10])"
      ]
     },
     "execution_count": 617,
     "metadata": {},
     "output_type": "execute_result"
    }
   ],
   "source": [
    "A[3:]"
   ]
  },
  {
   "cell_type": "code",
   "execution_count": 619,
   "id": "81fb97fa-33f6-415b-b77d-1b6f53428340",
   "metadata": {},
   "outputs": [
    {
     "data": {
      "text/plain": [
       "array([3])"
      ]
     },
     "execution_count": 619,
     "metadata": {},
     "output_type": "execute_result"
    }
   ],
   "source": [
    "A[2:3:2]"
   ]
  },
  {
   "cell_type": "code",
   "execution_count": 621,
   "id": "cd851671-d9db-477a-b54c-bfda5d60788b",
   "metadata": {},
   "outputs": [
    {
     "data": {
      "text/plain": [
       "array([[ 1, 23, 45],\n",
       "       [56,  3,  4]])"
      ]
     },
     "execution_count": 621,
     "metadata": {},
     "output_type": "execute_result"
    }
   ],
   "source": [
    "E=np.array([[1,23,45],[56,3,4]])\n",
    "E"
   ]
  },
  {
   "cell_type": "code",
   "execution_count": 623,
   "id": "157cc56a-5086-4ed9-9229-52f25d56d8d6",
   "metadata": {},
   "outputs": [
    {
     "data": {
      "text/plain": [
       "array([[ 1, 23, 45],\n",
       "       [56,  3,  4]])"
      ]
     },
     "execution_count": 623,
     "metadata": {},
     "output_type": "execute_result"
    }
   ],
   "source": [
    "E[:]"
   ]
  },
  {
   "cell_type": "code",
   "execution_count": 625,
   "id": "f9ccec23-dbbf-43be-ab4d-4a1981bcc644",
   "metadata": {},
   "outputs": [
    {
     "data": {
      "text/plain": [
       "array([[56,  3,  4]])"
      ]
     },
     "execution_count": 625,
     "metadata": {},
     "output_type": "execute_result"
    }
   ],
   "source": [
    "E[1:5]"
   ]
  },
  {
   "cell_type": "code",
   "execution_count": 627,
   "id": "2ace62fd-4b76-4804-90aa-f0ae7c6d2c52",
   "metadata": {},
   "outputs": [
    {
     "data": {
      "text/plain": [
       "array([[56,  3,  4]])"
      ]
     },
     "execution_count": 627,
     "metadata": {},
     "output_type": "execute_result"
    }
   ],
   "source": [
    "E[1:2:2]"
   ]
  },
  {
   "cell_type": "code",
   "execution_count": 629,
   "id": "b7207326-a077-4a29-8247-5aaec8db57af",
   "metadata": {},
   "outputs": [
    {
     "data": {
      "text/plain": [
       "array([[ 1, 23, 45],\n",
       "       [56,  3,  4]])"
      ]
     },
     "execution_count": 629,
     "metadata": {},
     "output_type": "execute_result"
    }
   ],
   "source": [
    "E[0:]"
   ]
  },
  {
   "cell_type": "markdown",
   "id": "08022f34-1eba-40be-88e9-6957991ca3f3",
   "metadata": {},
   "source": [
    "# Any and All functions"
   ]
  },
  {
   "cell_type": "code",
   "execution_count": 632,
   "id": "7b5782a6-a636-4709-915e-dac6fd01f8b9",
   "metadata": {},
   "outputs": [],
   "source": [
    "x=np.random.randint(10,1001,12)"
   ]
  },
  {
   "cell_type": "code",
   "execution_count": 634,
   "id": "377aab7c-2f9c-4c42-9af3-48e0523ccb27",
   "metadata": {},
   "outputs": [
    {
     "data": {
      "text/plain": [
       "array([862, 507, 641, 106, 361, 677, 618, 578, 934, 318, 640, 321])"
      ]
     },
     "execution_count": 634,
     "metadata": {},
     "output_type": "execute_result"
    }
   ],
   "source": [
    "x"
   ]
  },
  {
   "cell_type": "code",
   "execution_count": 638,
   "id": "96f94704-2f6a-4968-989a-66aba713f297",
   "metadata": {},
   "outputs": [
    {
     "data": {
      "text/plain": [
       "False"
      ]
     },
     "execution_count": 638,
     "metadata": {},
     "output_type": "execute_result"
    }
   ],
   "source": [
    "np.any(x==343)"
   ]
  },
  {
   "cell_type": "code",
   "execution_count": 640,
   "id": "b4232810-9322-4936-8c0b-d676fbc3efa8",
   "metadata": {},
   "outputs": [
    {
     "data": {
      "text/plain": [
       "True"
      ]
     },
     "execution_count": 640,
     "metadata": {},
     "output_type": "execute_result"
    }
   ],
   "source": [
    "np.any(x>201)"
   ]
  },
  {
   "cell_type": "code",
   "execution_count": 642,
   "id": "c4c06239-9ad0-4ce0-97c4-984674a051d9",
   "metadata": {},
   "outputs": [
    {
     "data": {
      "text/plain": [
       "False"
      ]
     },
     "execution_count": 642,
     "metadata": {},
     "output_type": "execute_result"
    }
   ],
   "source": [
    "np.any(x<1)"
   ]
  },
  {
   "cell_type": "code",
   "execution_count": 644,
   "id": "f5216659-a18c-4584-90ad-bda802d092df",
   "metadata": {},
   "outputs": [
    {
     "data": {
      "text/plain": [
       "False"
      ]
     },
     "execution_count": 644,
     "metadata": {},
     "output_type": "execute_result"
    }
   ],
   "source": [
    "np.all(x==500)"
   ]
  },
  {
   "cell_type": "code",
   "execution_count": 646,
   "id": "0143b688-3b2a-4405-9b85-b6b3347fd4f4",
   "metadata": {},
   "outputs": [
    {
     "data": {
      "text/plain": [
       "True"
      ]
     },
     "execution_count": 646,
     "metadata": {},
     "output_type": "execute_result"
    }
   ],
   "source": [
    "np.all(x<1001)"
   ]
  },
  {
   "cell_type": "code",
   "execution_count": 648,
   "id": "238321d7-de64-4cc1-a9ed-39161251dd75",
   "metadata": {},
   "outputs": [
    {
     "data": {
      "text/plain": [
       "False"
      ]
     },
     "execution_count": 648,
     "metadata": {},
     "output_type": "execute_result"
    }
   ],
   "source": [
    "np.all(x>1001)"
   ]
  },
  {
   "cell_type": "code",
   "execution_count": 650,
   "id": "72cda468-5ac0-4163-a0a5-9123c9ae877f",
   "metadata": {},
   "outputs": [
    {
     "data": {
      "text/plain": [
       "False"
      ]
     },
     "execution_count": 650,
     "metadata": {},
     "output_type": "execute_result"
    }
   ],
   "source": [
    "np.all(x<1)"
   ]
  },
  {
   "cell_type": "code",
   "execution_count": null,
   "id": "e27e995c-b827-4392-8d0f-818c1c46f6b7",
   "metadata": {},
   "outputs": [],
   "source": []
  }
 ],
 "metadata": {
  "kernelspec": {
   "display_name": "Python 3 (ipykernel)",
   "language": "python",
   "name": "python3"
  },
  "language_info": {
   "codemirror_mode": {
    "name": "ipython",
    "version": 3
   },
   "file_extension": ".py",
   "mimetype": "text/x-python",
   "name": "python",
   "nbconvert_exporter": "python",
   "pygments_lexer": "ipython3",
   "version": "3.12.4"
  }
 },
 "nbformat": 4,
 "nbformat_minor": 5
}
